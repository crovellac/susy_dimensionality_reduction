{
  "nbformat": 4,
  "nbformat_minor": 0,
  "metadata": {
    "colab": {
      "name": "Final_Project_PH582.ipynb",
      "provenance": [],
      "collapsed_sections": []
    },
    "kernelspec": {
      "name": "python3",
      "display_name": "Python 3"
    },
    "language_info": {
      "name": "python"
    },
    "accelerator": "GPU"
  },
  "cells": [
    {
      "cell_type": "markdown",
      "metadata": {
        "id": "k-MeDPZXNAxX"
      },
      "source": [
        "# Abstract"
      ]
    },
    {
      "cell_type": "markdown",
      "metadata": {
        "id": "MQ9Ws1DDNL2K"
      },
      "source": [
        "We use the SUSY dataset and construct a neural network \n",
        "classifier, then apply dimensionality reduction via incrememntal PCA and retrain a network of similar architecture on this \"reduced\" dataset.\n",
        "(Placeholder, we should probably rewrite this)"
      ]
    },
    {
      "cell_type": "markdown",
      "metadata": {
        "id": "u7r6ULlxMVhD"
      },
      "source": [
        "# Setup"
      ]
    },
    {
      "cell_type": "markdown",
      "metadata": {
        "id": "J3gZcfvZMMSl"
      },
      "source": [
        "Import the SUSY dataset"
      ]
    },
    {
      "cell_type": "code",
      "metadata": {
        "colab": {
          "base_uri": "https://localhost:8080/"
        },
        "id": "hCZ0rL7MGNwv",
        "outputId": "34c1adfa-0a41-4eb3-a4d4-edb475b8141d"
      },
      "source": [
        "!wget https://archive.ics.uci.edu/ml/machine-learning-databases/00279/SUSY.csv.gz"
      ],
      "execution_count": null,
      "outputs": [
        {
          "output_type": "stream",
          "text": [
            "--2021-04-09 02:53:03--  https://archive.ics.uci.edu/ml/machine-learning-databases/00279/SUSY.csv.gz\n",
            "Resolving archive.ics.uci.edu (archive.ics.uci.edu)... 128.195.10.252\n",
            "Connecting to archive.ics.uci.edu (archive.ics.uci.edu)|128.195.10.252|:443... connected.\n",
            "HTTP request sent, awaiting response... 200 OK\n",
            "Length: 922377711 (880M) [application/x-httpd-php]\n",
            "Saving to: ‘SUSY.csv.gz’\n",
            "\n",
            "SUSY.csv.gz         100%[===================>] 879.65M  42.3MB/s    in 21s     \n",
            "\n",
            "2021-04-09 02:53:25 (41.0 MB/s) - ‘SUSY.csv.gz’ saved [922377711/922377711]\n",
            "\n"
          ],
          "name": "stdout"
        }
      ]
    },
    {
      "cell_type": "code",
      "metadata": {
        "id": "OEwoqjVNLvYJ",
        "colab": {
          "base_uri": "https://localhost:8080/"
        },
        "outputId": "9f3a253d-489d-42c9-a781-f2ba4900c09a"
      },
      "source": [
        "!gzip -d SUSY.csv.gz"
      ],
      "execution_count": null,
      "outputs": [
        {
          "output_type": "stream",
          "text": [
            "gzip: SUSY.csv already exists; do you wish to overwrite (y or n)? y\n"
          ],
          "name": "stdout"
        }
      ]
    },
    {
      "cell_type": "code",
      "metadata": {
        "id": "25g8pIeML206"
      },
      "source": [
        "import pandas as pd\n",
        "data = pd.read_csv('./SUSY.csv')"
      ],
      "execution_count": null,
      "outputs": []
    },
    {
      "cell_type": "markdown",
      "metadata": {
        "id": "ZAdqVIYgMagk"
      },
      "source": [
        "Define X and y as a subset of SUSY.csv (or the entire dataset, commented)\n",
        "\n",
        "NOTE: Something we should discuss. Should we include only the low-level features, or only the high-level features, or just all of them? The high-level ones seem to be derived from the low-level ones, so if our purpose is to construct new dimensions from the data then we may want to leave them out."
      ]
    },
    {
      "cell_type": "code",
      "metadata": {
        "id": "j7FurAW1MLBT"
      },
      "source": [
        "#All features: 8 low-level, 10 high-level\n",
        "X=data.iloc[:50000,1:]\n",
        "y=data.iloc[:50000,0]\n",
        "\n",
        "#Full dataset\n",
        "#X=data.iloc[:,1:]\n",
        "#y=data.iloc[:,0]"
      ],
      "execution_count": null,
      "outputs": []
    },
    {
      "cell_type": "markdown",
      "metadata": {
        "id": "nE9DOQ4KMzkm"
      },
      "source": [
        "Create the test, train, and validation sets from X and y"
      ]
    },
    {
      "cell_type": "code",
      "metadata": {
        "id": "rXJvdoixM5A8"
      },
      "source": [
        "from sklearn.model_selection import train_test_split\n",
        "\n",
        "X_train1, X_val, y_train1, y_val = train_test_split(X, y, test_size=0.2, random_state=42)\n",
        "X_train, X_test, y_train, y_test = train_test_split(X_train1, y_train1, test_size=0.2, random_state=42)"
      ],
      "execution_count": null,
      "outputs": []
    },
    {
      "cell_type": "markdown",
      "metadata": {
        "id": "XjiTbBSgOTXx"
      },
      "source": [
        "# Neural Network"
      ]
    },
    {
      "cell_type": "code",
      "metadata": {
        "id": "EzQc4iVcObzL"
      },
      "source": [
        "import numpy as np\n",
        "import tensorflow as tf\n",
        "from tensorflow import keras\n",
        "from keras.layers import Input, Dense, Dropout, Flatten, Conv2D, MaxPooling2D"
      ],
      "execution_count": null,
      "outputs": []
    },
    {
      "cell_type": "code",
      "metadata": {
        "colab": {
          "base_uri": "https://localhost:8080/"
        },
        "id": "_6755xHSQQuH",
        "outputId": "1b20873e-48cc-43f1-ab19-323fa1dcc1b3"
      },
      "source": [
        "num_dims = (np.shape(X_train))[1]\n",
        "print(num_dims)"
      ],
      "execution_count": null,
      "outputs": [
        {
          "output_type": "stream",
          "text": [
            "18\n"
          ],
          "name": "stdout"
        }
      ]
    },
    {
      "cell_type": "markdown",
      "metadata": {
        "id": "0bMYXK41TtPP"
      },
      "source": [
        "Everytime we create a model, we will call this function, create_model(). This way, every model will have the same architecture after the input layer."
      ]
    },
    {
      "cell_type": "code",
      "metadata": {
        "id": "VGWzN565RiGh"
      },
      "source": [
        "def create_model():\n",
        "  model = keras.models.Sequential()\n",
        "  model.add(Dense(300, activation='relu'))\n",
        "  model.add(Dense(300, activation='relu'))\n",
        "  model.add(Dense(300, activation='relu'))\n",
        "  model.add(Dense(300, activation='relu'))\n",
        "  model.add(Dense(1, activation='sigmoid'))\n",
        "  return model"
      ],
      "execution_count": null,
      "outputs": []
    },
    {
      "cell_type": "markdown",
      "metadata": {
        "id": "hZ_Z9ShbUTYD"
      },
      "source": [
        "Here we define the optimizer which we will use with all models."
      ]
    },
    {
      "cell_type": "code",
      "metadata": {
        "id": "TaIT2Lc1ULEo"
      },
      "source": [
        "#exp_opt = keras.optimizers.schedules.ExponentialDecay(\n",
        "#    initial_learning_rate=0.05,\n",
        "#    decay_steps=10000,\n",
        "#    decay_rate=1e-5)\n",
        "\n",
        "opt = keras.optimizers.Adam()\n",
        "\n",
        "\n",
        "#model.compile(loss='categorical_crossentropy', optimizer=exp_opt)"
      ],
      "execution_count": null,
      "outputs": []
    },
    {
      "cell_type": "code",
      "metadata": {
        "id": "r1Ta2wAIUBNv"
      },
      "source": [
        "model_primary = create_model()\n",
        "model_primary.compile(loss='binary_crossentropy', optimizer=opt, metrics=['accuracy'])"
      ],
      "execution_count": null,
      "outputs": []
    },
    {
      "cell_type": "code",
      "metadata": {
        "colab": {
          "base_uri": "https://localhost:8080/"
        },
        "id": "BFeiyBYoVOed",
        "outputId": "e5a891a9-4812-47bb-82aa-091ced135cf1"
      },
      "source": [
        "model_primary.fit(X_train, y_train, validation_data=(X_val, y_val), epochs=20, batch_size=10)"
      ],
      "execution_count": null,
      "outputs": [
        {
          "output_type": "stream",
          "text": [
            "Epoch 1/20\n",
            "3200/3200 [==============================] - 8s 2ms/step - loss: 0.4829 - accuracy: 0.7691 - val_loss: 0.4550 - val_accuracy: 0.7926\n",
            "Epoch 2/20\n",
            "3200/3200 [==============================] - 7s 2ms/step - loss: 0.4491 - accuracy: 0.7909 - val_loss: 0.4473 - val_accuracy: 0.7939\n",
            "Epoch 3/20\n",
            "3200/3200 [==============================] - 7s 2ms/step - loss: 0.4441 - accuracy: 0.7927 - val_loss: 0.4400 - val_accuracy: 0.7967\n",
            "Epoch 4/20\n",
            "3200/3200 [==============================] - 7s 2ms/step - loss: 0.4394 - accuracy: 0.7963 - val_loss: 0.4372 - val_accuracy: 0.7996\n",
            "Epoch 5/20\n",
            "3200/3200 [==============================] - 7s 2ms/step - loss: 0.4457 - accuracy: 0.7931 - val_loss: 0.4408 - val_accuracy: 0.7988\n",
            "Epoch 6/20\n",
            "3200/3200 [==============================] - 7s 2ms/step - loss: 0.4380 - accuracy: 0.7977 - val_loss: 0.4515 - val_accuracy: 0.7946\n",
            "Epoch 7/20\n",
            "3200/3200 [==============================] - 7s 2ms/step - loss: 0.4335 - accuracy: 0.8000 - val_loss: 0.4420 - val_accuracy: 0.7982\n",
            "Epoch 8/20\n",
            "3200/3200 [==============================] - 7s 2ms/step - loss: 0.4359 - accuracy: 0.7949 - val_loss: 0.4402 - val_accuracy: 0.7985\n",
            "Epoch 9/20\n",
            "3200/3200 [==============================] - 7s 2ms/step - loss: 0.4361 - accuracy: 0.7995 - val_loss: 0.4368 - val_accuracy: 0.7981\n",
            "Epoch 10/20\n",
            "3200/3200 [==============================] - 7s 2ms/step - loss: 0.4317 - accuracy: 0.7997 - val_loss: 0.4554 - val_accuracy: 0.7877\n",
            "Epoch 11/20\n",
            "3200/3200 [==============================] - 7s 2ms/step - loss: 0.4276 - accuracy: 0.8052 - val_loss: 0.4346 - val_accuracy: 0.8006\n",
            "Epoch 12/20\n",
            "3200/3200 [==============================] - 7s 2ms/step - loss: 0.4254 - accuracy: 0.8061 - val_loss: 0.4376 - val_accuracy: 0.7998\n",
            "Epoch 13/20\n",
            "3200/3200 [==============================] - 7s 2ms/step - loss: 0.4335 - accuracy: 0.7981 - val_loss: 0.4440 - val_accuracy: 0.7986\n",
            "Epoch 14/20\n",
            "3200/3200 [==============================] - 7s 2ms/step - loss: 0.4280 - accuracy: 0.8006 - val_loss: 0.4394 - val_accuracy: 0.8003\n",
            "Epoch 15/20\n",
            "3200/3200 [==============================] - 7s 2ms/step - loss: 0.4343 - accuracy: 0.7978 - val_loss: 0.4496 - val_accuracy: 0.7942\n",
            "Epoch 16/20\n",
            "3200/3200 [==============================] - 7s 2ms/step - loss: 0.4292 - accuracy: 0.7999 - val_loss: 0.4406 - val_accuracy: 0.7982\n",
            "Epoch 17/20\n",
            "3200/3200 [==============================] - 7s 2ms/step - loss: 0.4272 - accuracy: 0.8039 - val_loss: 0.4481 - val_accuracy: 0.7965\n",
            "Epoch 18/20\n",
            "3200/3200 [==============================] - 7s 2ms/step - loss: 0.4223 - accuracy: 0.8052 - val_loss: 0.4605 - val_accuracy: 0.7983\n",
            "Epoch 19/20\n",
            "3200/3200 [==============================] - 7s 2ms/step - loss: 0.4218 - accuracy: 0.8044 - val_loss: 0.4420 - val_accuracy: 0.7985\n",
            "Epoch 20/20\n",
            "3200/3200 [==============================] - 7s 2ms/step - loss: 0.4132 - accuracy: 0.8095 - val_loss: 0.4575 - val_accuracy: 0.7952\n"
          ],
          "name": "stdout"
        },
        {
          "output_type": "execute_result",
          "data": {
            "text/plain": [
              "<tensorflow.python.keras.callbacks.History at 0x7fb5b0437590>"
            ]
          },
          "metadata": {
            "tags": []
          },
          "execution_count": 48
        }
      ]
    },
    {
      "cell_type": "markdown",
      "metadata": {
        "id": "T4etsLJJVjKj"
      },
      "source": [
        "Evaluate the performance of the model."
      ]
    },
    {
      "cell_type": "code",
      "metadata": {
        "colab": {
          "base_uri": "https://localhost:8080/"
        },
        "id": "TJQH65OUVmG-",
        "outputId": "b5841cc5-a610-4e40-cf06-eedbeb30fee4"
      },
      "source": [
        "_, accuracy = model_primary.evaluate(X_test, y_test)"
      ],
      "execution_count": null,
      "outputs": [
        {
          "output_type": "stream",
          "text": [
            "250/250 [==============================] - 1s 2ms/step - loss: 0.4725 - accuracy: 0.7869\n"
          ],
          "name": "stdout"
        }
      ]
    },
    {
      "cell_type": "code",
      "metadata": {
        "colab": {
          "base_uri": "https://localhost:8080/"
        },
        "id": "GOnIsUQXrxqA",
        "outputId": "aef2f8f9-a43b-4231-9139-4035662ac589"
      },
      "source": [
        "from sklearn.metrics import roc_curve, auc\n",
        "\n",
        "# Evaluate on validation set\n",
        "score = model_primary.evaluate(X_val, y_val, verbose=1)\n",
        "print('\\nValidation loss / accuracy: %0.4f / %0.4f'%(score[0], score[1]))\n",
        "y_pred = model_primary.predict(X_val)\n",
        "fpr, tpr, _ = roc_curve(y_val, y_pred)\n",
        "roc_auc = auc(fpr, tpr)\n",
        "print('Validation ROC AUC:', roc_auc)\n",
        "\n",
        "# Evaluate on test set\n",
        "score = model_primary.evaluate(X_test, y_test, verbose=1)\n",
        "print('\\nTest loss / accuracy: %0.4f / %0.4f'%(score[0], score[1]))\n",
        "y_pred = model_primary.predict(X_test)\n",
        "fpr, tpr, _ = roc_curve(y_test, y_pred)\n",
        "roc_auc = auc(fpr, tpr)\n",
        "print('Test ROC AUC:', roc_auc)"
      ],
      "execution_count": null,
      "outputs": [
        {
          "output_type": "stream",
          "text": [
            "313/313 [==============================] - 1s 2ms/step - loss: 0.4575 - accuracy: 0.7952\n",
            "\n",
            "Validation loss / accuracy: 0.4575 / 0.7952\n",
            "Validation ROC AUC: 0.8677326444467652\n",
            "250/250 [==============================] - 1s 2ms/step - loss: 0.4725 - accuracy: 0.7869\n",
            "\n",
            "Test loss / accuracy: 0.4725 / 0.7869\n",
            "Test ROC AUC: 0.8588326274509803\n"
          ],
          "name": "stdout"
        }
      ]
    },
    {
      "cell_type": "code",
      "metadata": {
        "colab": {
          "base_uri": "https://localhost:8080/",
          "height": 295
        },
        "id": "2zPoqfAwr2bj",
        "outputId": "706ea4e3-a15a-4ef6-a09a-a6641013e1a4"
      },
      "source": [
        "import matplotlib.pyplot as plt\n",
        "\n",
        "plt.plot([0, 1], [0, 1], 'k--')\n",
        "#plt.legend(loc=2, prop={'size': 15})\n",
        "plt.plot(fpr, tpr, label='Model 1 (ROC-AUC = {:.3f})'.format(roc_auc))\n",
        "plt.xlabel('False positive rate')\n",
        "plt.ylabel('True positive rate')\n",
        "plt.title('ROC curve')\n",
        "plt.legend(loc='best')\n",
        "plt.show()"
      ],
      "execution_count": null,
      "outputs": [
        {
          "output_type": "display_data",
          "data": {
            "image/png": "[encoded data removed]",
            "text/plain": [
              "<Figure size 432x288 with 1 Axes>"
            ]
          },
          "metadata": {
            "tags": [],
            "needs_background": "light"
          }
        }
      ]
    },
    {
      "cell_type": "markdown",
      "metadata": {
        "id": "dnXiBjopVw5N"
      },
      "source": [
        "# Principal Component Analysis"
      ]
    },
    {
      "cell_type": "markdown",
      "metadata": {
        "id": "EvVrMCUzWCG5"
      },
      "source": [
        "We perform PCA to reduce our data set's dimensionality."
      ]
    },
    {
      "cell_type": "code",
      "metadata": {
        "id": "IFf9MxLpYXwZ"
      },
      "source": [
        "#This is the number of dimensions that we want to reduce our dataset to using dimensionality reduction.\n",
        "reduced_dims = 15"
      ],
      "execution_count": null,
      "outputs": []
    },
    {
      "cell_type": "code",
      "metadata": {
        "id": "ZVWwXoH-X4AP"
      },
      "source": [
        "from sklearn.decomposition import IncrementalPCA\n",
        "\n",
        "n_batches=100\n",
        "inc_pca = IncrementalPCA(n_components=reduced_dims)\n",
        "for X_batch in np.array_split(X_train, n_batches):\n",
        "  inc_pca.partial_fit(X_batch)\n",
        "\n",
        "X_train_reduced = inc_pca.transform(X_train)\n",
        "X_val_reduced = inc_pca.transform(X_val)\n",
        "X_test_reduced = inc_pca.transform(X_test)"
      ],
      "execution_count": null,
      "outputs": []
    },
    {
      "cell_type": "code",
      "metadata": {
        "colab": {
          "base_uri": "https://localhost:8080/"
        },
        "id": "uURhU_1pY2PI",
        "outputId": "b74de7fd-31dc-4cdf-b851-d28439d2f882"
      },
      "source": [
        "np.shape(X_train_reduced[1])"
      ],
      "execution_count": null,
      "outputs": [
        {
          "output_type": "execute_result",
          "data": {
            "text/plain": [
              "(15,)"
            ]
          },
          "metadata": {
            "tags": []
          },
          "execution_count": 54
        }
      ]
    },
    {
      "cell_type": "markdown",
      "metadata": {
        "id": "vrEQf8_MZOzk"
      },
      "source": [
        "# Retraining the Neural Network\n"
      ]
    },
    {
      "cell_type": "code",
      "metadata": {
        "colab": {
          "base_uri": "https://localhost:8080/"
        },
        "id": "5Ra3Tx1GZtOR",
        "outputId": "8a0c8841-c5de-4318-d805-69bbe0e418c6"
      },
      "source": [
        "model_reduced = create_model()\n",
        "model_reduced.compile(loss='binary_crossentropy', optimizer=opt, metrics=['accuracy'])\n",
        "model_reduced.fit(X_train_reduced, y_train, validation_data=(X_val_reduced, y_val), epochs=20, batch_size=10)"
      ],
      "execution_count": null,
      "outputs": [
        {
          "output_type": "stream",
          "text": [
            "Epoch 1/20\n",
            "3200/3200 [==============================] - 8s 2ms/step - loss: 0.4758 - accuracy: 0.7753 - val_loss: 0.4432 - val_accuracy: 0.7989\n",
            "Epoch 2/20\n",
            "3200/3200 [==============================] - 7s 2ms/step - loss: 0.4355 - accuracy: 0.7982 - val_loss: 0.4388 - val_accuracy: 0.7971\n",
            "Epoch 3/20\n",
            "3200/3200 [==============================] - 7s 2ms/step - loss: 0.4353 - accuracy: 0.8016 - val_loss: 0.4376 - val_accuracy: 0.7991\n",
            "Epoch 4/20\n",
            "3200/3200 [==============================] - 7s 2ms/step - loss: 0.4326 - accuracy: 0.7993 - val_loss: 0.4424 - val_accuracy: 0.7955\n",
            "Epoch 5/20\n",
            "3200/3200 [==============================] - 7s 2ms/step - loss: 0.4297 - accuracy: 0.8033 - val_loss: 0.4421 - val_accuracy: 0.7975\n",
            "Epoch 6/20\n",
            "3200/3200 [==============================] - 7s 2ms/step - loss: 0.4301 - accuracy: 0.8020 - val_loss: 0.4363 - val_accuracy: 0.8012\n",
            "Epoch 7/20\n",
            "3200/3200 [==============================] - 7s 2ms/step - loss: 0.4272 - accuracy: 0.8019 - val_loss: 0.4402 - val_accuracy: 0.7983\n",
            "Epoch 8/20\n",
            "3200/3200 [==============================] - 7s 2ms/step - loss: 0.4237 - accuracy: 0.8045 - val_loss: 0.4360 - val_accuracy: 0.7954\n",
            "Epoch 9/20\n",
            "3200/3200 [==============================] - 7s 2ms/step - loss: 0.4210 - accuracy: 0.8070 - val_loss: 0.4388 - val_accuracy: 0.7989\n",
            "Epoch 10/20\n",
            "3200/3200 [==============================] - 7s 2ms/step - loss: 0.4196 - accuracy: 0.8064 - val_loss: 0.4401 - val_accuracy: 0.8007\n",
            "Epoch 11/20\n",
            "3200/3200 [==============================] - 7s 2ms/step - loss: 0.4195 - accuracy: 0.8080 - val_loss: 0.4444 - val_accuracy: 0.7957\n",
            "Epoch 12/20\n",
            "3200/3200 [==============================] - 7s 2ms/step - loss: 0.4179 - accuracy: 0.8074 - val_loss: 0.4393 - val_accuracy: 0.7993\n",
            "Epoch 13/20\n",
            "3200/3200 [==============================] - 7s 2ms/step - loss: 0.4149 - accuracy: 0.8108 - val_loss: 0.4431 - val_accuracy: 0.7953\n",
            "Epoch 14/20\n",
            "3200/3200 [==============================] - 7s 2ms/step - loss: 0.4114 - accuracy: 0.8098 - val_loss: 0.4498 - val_accuracy: 0.7985\n",
            "Epoch 15/20\n",
            "3200/3200 [==============================] - 7s 2ms/step - loss: 0.4044 - accuracy: 0.8130 - val_loss: 0.4467 - val_accuracy: 0.7947\n",
            "Epoch 16/20\n",
            "3200/3200 [==============================] - 7s 2ms/step - loss: 0.3983 - accuracy: 0.8180 - val_loss: 0.4579 - val_accuracy: 0.7935\n",
            "Epoch 17/20\n",
            "3200/3200 [==============================] - 7s 2ms/step - loss: 0.3947 - accuracy: 0.8185 - val_loss: 0.4567 - val_accuracy: 0.7908\n",
            "Epoch 18/20\n",
            "3200/3200 [==============================] - 7s 2ms/step - loss: 0.3956 - accuracy: 0.8194 - val_loss: 0.4584 - val_accuracy: 0.7929\n",
            "Epoch 19/20\n",
            "3200/3200 [==============================] - 7s 2ms/step - loss: 0.3934 - accuracy: 0.8193 - val_loss: 0.4636 - val_accuracy: 0.7868\n",
            "Epoch 20/20\n",
            "3200/3200 [==============================] - 7s 2ms/step - loss: 0.3891 - accuracy: 0.8258 - val_loss: 0.4721 - val_accuracy: 0.7902\n"
          ],
          "name": "stdout"
        },
        {
          "output_type": "execute_result",
          "data": {
            "text/plain": [
              "<tensorflow.python.keras.callbacks.History at 0x7fb543c91b90>"
            ]
          },
          "metadata": {
            "tags": []
          },
          "execution_count": 55
        }
      ]
    },
    {
      "cell_type": "markdown",
      "metadata": {
        "id": "_SKdAz9JaUAY"
      },
      "source": [
        "# Evaluation of the Reduced Dimensions"
      ]
    },
    {
      "cell_type": "code",
      "metadata": {
        "colab": {
          "base_uri": "https://localhost:8080/"
        },
        "id": "pFJeW4a5uyFo",
        "outputId": "34ee617e-dac1-408f-bd66-9cee15c17d68"
      },
      "source": [
        "# Evaluate on validation set\n",
        "score = model_reduced.evaluate(X_val_reduced, y_val, verbose=1)\n",
        "print('\\nValidation loss / accuracy: %0.4f / %0.4f'%(score[0], score[1]))\n",
        "y_pred_reduced = model_reduced.predict(X_val_reduced)\n",
        "fpr, tpr, _ = roc_curve(y_val, y_pred_reduced)\n",
        "roc_auc = auc(fpr, tpr)\n",
        "print('Validation ROC AUC:', roc_auc)\n",
        "\n",
        "# Evaluate on test set\n",
        "score = model_reduced.evaluate(X_test_reduced, y_test, verbose=1)\n",
        "print('\\nTest loss / accuracy: %0.4f / %0.4f'%(score[0], score[1]))\n",
        "y_pred_reduced = model_reduced.predict(X_test_reduced)\n",
        "fpr, tpr, _ = roc_curve(y_test, y_pred_reduced)\n",
        "roc_auc = auc(fpr, tpr)\n",
        "print('Test ROC AUC:', roc_auc)"
      ],
      "execution_count": null,
      "outputs": [
        {
          "output_type": "stream",
          "text": [
            "313/313 [==============================] - 1s 2ms/step - loss: 0.4721 - accuracy: 0.7902\n",
            "\n",
            "Validation loss / accuracy: 0.4721 / 0.7902\n",
            "Validation ROC AUC: 0.8606517948421692\n",
            "250/250 [==============================] - 1s 2ms/step - loss: 0.4823 - accuracy: 0.7856\n",
            "\n",
            "Test loss / accuracy: 0.4823 / 0.7856\n",
            "Test ROC AUC: 0.8545256470588236\n"
          ],
          "name": "stdout"
        }
      ]
    },
    {
      "cell_type": "code",
      "metadata": {
        "colab": {
          "base_uri": "https://localhost:8080/",
          "height": 295
        },
        "id": "TUGJinCUC2xq",
        "outputId": "b3ae19bc-b375-492c-aee1-df0fda22ba92"
      },
      "source": [
        "import matplotlib.pyplot as plt\n",
        "\n",
        "plt.plot([0, 1], [0, 1], 'k--')\n",
        "#plt.legend(loc=2, prop={'size': 15})\n",
        "plt.plot(fpr, tpr, label='Model 1 (ROC-AUC = {:.3f})'.format(roc_auc))\n",
        "plt.xlabel('False positive rate')\n",
        "plt.ylabel('True positive rate')\n",
        "plt.title('ROC curve')\n",
        "plt.legend(loc='best')\n",
        "plt.show()"
      ],
      "execution_count": null,
      "outputs": [
        {
          "output_type": "display_data",
          "data": {
            "image/png": "[encoded data removed]",
            "text/plain": [
              "<Figure size 432x288 with 1 Axes>"
            ]
          },
          "metadata": {
            "tags": [],
            "needs_background": "light"
          }
        }
      ]
    },
    {
      "cell_type": "markdown",
      "metadata": {
        "id": "i5xgKctLF0M4"
      },
      "source": [
        "# Testing various numbers of reduced dimensions"
      ]
    },
    {
      "cell_type": "markdown",
      "metadata": {
        "id": "BqoVX3FBF6mP"
      },
      "source": [
        "Here we test across a range of numbers of reduced dimensions.\n",
        "(work in progress)"
      ]
    }
  ]
}