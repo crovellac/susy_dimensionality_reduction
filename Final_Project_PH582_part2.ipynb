{
  "nbformat": 4,
  "nbformat_minor": 0,
  "metadata": {
    "colab": {
      "name": "Final_Project_PH582_part2.ipynb",
      "provenance": [],
      "collapsed_sections": []
    },
    "kernelspec": {
      "name": "python3",
      "display_name": "Python 3"
    },
    "language_info": {
      "name": "python"
    },
    "accelerator": "GPU"
  },
  "cells": [
    {
      "cell_type": "markdown",
      "metadata": {
        "id": "k-MeDPZXNAxX"
      },
      "source": [
        "# Abstract"
      ]
    },
    {
      "cell_type": "markdown",
      "metadata": {
        "id": "MQ9Ws1DDNL2K"
      },
      "source": [
        "We use the SUSY dataset and construct a neural network \n",
        "classifier, then apply dimensionality reduction via incrememntal PCA and retrain a network of similar architecture on this \"reduced\" dataset.\n",
        "(Placeholder, we should probably rewrite this)"
      ]
    },
    {
      "cell_type": "markdown",
      "metadata": {
        "id": "u7r6ULlxMVhD"
      },
      "source": [
        "# Setup"
      ]
    },
    {
      "cell_type": "markdown",
      "metadata": {
        "id": "J3gZcfvZMMSl"
      },
      "source": [
        "Import the SUSY dataset"
      ]
    },
    {
      "cell_type": "code",
      "metadata": {
        "colab": {
          "base_uri": "https://localhost:8080/"
        },
        "id": "hCZ0rL7MGNwv",
        "outputId": "6059e305-7f60-41fe-ab27-7c059d41b0e9"
      },
      "source": [
        "!wget https://archive.ics.uci.edu/ml/machine-learning-databases/00279/SUSY.csv.gz"
      ],
      "execution_count": null,
      "outputs": [
        {
          "output_type": "stream",
          "text": [
            "--2021-04-24 21:10:38--  https://archive.ics.uci.edu/ml/machine-learning-databases/00279/SUSY.csv.gz\n",
            "Resolving archive.ics.uci.edu (archive.ics.uci.edu)... 128.195.10.252\n",
            "Connecting to archive.ics.uci.edu (archive.ics.uci.edu)|128.195.10.252|:443... connected.\n",
            "HTTP request sent, awaiting response... 200 OK\n",
            "Length: 922377711 (880M) [application/x-httpd-php]\n",
            "Saving to: ‘SUSY.csv.gz’\n",
            "\n",
            "SUSY.csv.gz         100%[===================>] 879.65M  90.4MB/s    in 10s     \n",
            "\n",
            "2021-04-24 21:10:48 (86.6 MB/s) - ‘SUSY.csv.gz’ saved [922377711/922377711]\n",
            "\n"
          ],
          "name": "stdout"
        }
      ]
    },
    {
      "cell_type": "code",
      "metadata": {
        "id": "OEwoqjVNLvYJ"
      },
      "source": [
        "!gzip -d SUSY.csv.gz"
      ],
      "execution_count": null,
      "outputs": []
    },
    {
      "cell_type": "code",
      "metadata": {
        "id": "25g8pIeML206"
      },
      "source": [
        "import pandas as pd\n",
        "data = pd.read_csv('./SUSY.csv')"
      ],
      "execution_count": null,
      "outputs": []
    },
    {
      "cell_type": "markdown",
      "metadata": {
        "id": "ZAdqVIYgMagk"
      },
      "source": [
        "Define X and y as a subset of SUSY.csv (or the entire dataset, commented)\n"
      ]
    },
    {
      "cell_type": "code",
      "metadata": {
        "id": "j7FurAW1MLBT"
      },
      "source": [
        "#All features: 8 low-level, 10 high-level\n",
        "X=data.iloc[:50000,1:9]\n",
        "y=data.iloc[:50000,0]\n",
        "\n",
        "#Full dataset\n",
        "#X=data.iloc[:,1:]\n",
        "#y=data.iloc[:,0]"
      ],
      "execution_count": null,
      "outputs": []
    },
    {
      "cell_type": "markdown",
      "metadata": {
        "id": "nE9DOQ4KMzkm"
      },
      "source": [
        "Create the test, train, and validation sets from X and y"
      ]
    },
    {
      "cell_type": "code",
      "metadata": {
        "id": "rXJvdoixM5A8"
      },
      "source": [
        "from sklearn.model_selection import train_test_split\n",
        "\n",
        "X_train1, X_val, y_train1, y_val = train_test_split(X, y, test_size=0.2, random_state=42)\n",
        "X_train, X_test, y_train, y_test = train_test_split(X_train1, y_train1, test_size=0.2, random_state=42)"
      ],
      "execution_count": null,
      "outputs": []
    },
    {
      "cell_type": "markdown",
      "metadata": {
        "id": "XjiTbBSgOTXx"
      },
      "source": [
        "# Neural Network"
      ]
    },
    {
      "cell_type": "code",
      "metadata": {
        "id": "EzQc4iVcObzL"
      },
      "source": [
        "import numpy as np\n",
        "import tensorflow as tf\n",
        "from tensorflow import keras\n",
        "from keras.layers import Input, Dense, Dropout, Flatten, Conv2D, MaxPooling2D\n",
        "import time"
      ],
      "execution_count": null,
      "outputs": []
    },
    {
      "cell_type": "code",
      "metadata": {
        "colab": {
          "base_uri": "https://localhost:8080/"
        },
        "id": "_6755xHSQQuH",
        "outputId": "8c1d7904-cade-4f1c-efd1-8ccc34393ce5"
      },
      "source": [
        "num_dims = (np.shape(X_train))[1]\n",
        "print(num_dims)"
      ],
      "execution_count": null,
      "outputs": [
        {
          "output_type": "stream",
          "text": [
            "8\n"
          ],
          "name": "stdout"
        }
      ]
    },
    {
      "cell_type": "markdown",
      "metadata": {
        "id": "0bMYXK41TtPP"
      },
      "source": [
        "Everytime we create a model, we will call this function, create_model(). This way, every model will have the same architecture after the input layer."
      ]
    },
    {
      "cell_type": "code",
      "metadata": {
        "id": "VGWzN565RiGh"
      },
      "source": [
        "from keras.layers import BatchNormalization\n",
        "\n",
        "def create_model():\n",
        "  model = keras.models.Sequential()\n",
        "  model.add(Dense(300, activation='relu'))\n",
        "  model.add(BatchNormalization())\n",
        "  model.add(Dense(300, activation='relu'))\n",
        "  model.add(BatchNormalization())\n",
        "  model.add(Dense(300, activation='relu'))\n",
        "  model.add(BatchNormalization())\n",
        "  model.add(Dense(300, activation='relu'))\n",
        "  model.add(BatchNormalization())\n",
        "  model.add(Dense(1, activation='sigmoid'))\n",
        "  return model"
      ],
      "execution_count": null,
      "outputs": []
    },
    {
      "cell_type": "markdown",
      "metadata": {
        "id": "hZ_Z9ShbUTYD"
      },
      "source": [
        "Here we define the optimizer which we will use with all models."
      ]
    },
    {
      "cell_type": "code",
      "metadata": {
        "id": "TaIT2Lc1ULEo"
      },
      "source": [
        "#exp_opt = keras.optimizers.schedules.ExponentialDecay(\n",
        "#    initial_learning_rate=0.05,\n",
        "#    decay_steps=10000,\n",
        "#    decay_rate=1e-5)\n",
        "\n",
        "opt = keras.optimizers.Adam()\n",
        "\n",
        "\n",
        "#model.compile(loss='categorical_crossentropy', optimizer=exp_opt)"
      ],
      "execution_count": null,
      "outputs": []
    },
    {
      "cell_type": "code",
      "metadata": {
        "id": "r1Ta2wAIUBNv"
      },
      "source": [
        "model_primary = create_model()\n",
        "model_primary.compile(loss='binary_crossentropy', optimizer=opt, metrics=['accuracy'])"
      ],
      "execution_count": null,
      "outputs": []
    },
    {
      "cell_type": "code",
      "metadata": {
        "colab": {
          "base_uri": "https://localhost:8080/"
        },
        "id": "BFeiyBYoVOed",
        "outputId": "ed8d5b81-2763-49eb-ec4d-29a389de2842"
      },
      "source": [
        "t1 = time.perf_counter()\n",
        "model_primary.fit(X_train, y_train, validation_data=(X_val, y_val), epochs=20, batch_size=10)\n",
        "t2 = time.perf_counter()\n",
        "baseline_time = t2-t1"
      ],
      "execution_count": null,
      "outputs": [
        {
          "output_type": "stream",
          "text": [
            "Epoch 1/20\n",
            "3200/3200 [==============================] - 10s 3ms/step - loss: 0.4834 - accuracy: 0.7744 - val_loss: 0.4606 - val_accuracy: 0.7888\n",
            "Epoch 2/20\n",
            "3200/3200 [==============================] - 10s 3ms/step - loss: 0.4824 - accuracy: 0.7757 - val_loss: 0.4681 - val_accuracy: 0.7874\n",
            "Epoch 3/20\n",
            "3200/3200 [==============================] - 10s 3ms/step - loss: 0.4792 - accuracy: 0.7738 - val_loss: 0.4632 - val_accuracy: 0.7864\n",
            "Epoch 4/20\n",
            "3200/3200 [==============================] - 10s 3ms/step - loss: 0.4839 - accuracy: 0.7733 - val_loss: 0.4650 - val_accuracy: 0.7859\n",
            "Epoch 5/20\n",
            "3200/3200 [==============================] - 10s 3ms/step - loss: 0.4824 - accuracy: 0.7747 - val_loss: 0.4602 - val_accuracy: 0.7858\n",
            "Epoch 6/20\n",
            "3200/3200 [==============================] - 10s 3ms/step - loss: 0.4828 - accuracy: 0.7728 - val_loss: 0.4691 - val_accuracy: 0.7819\n",
            "Epoch 7/20\n",
            "3200/3200 [==============================] - 10s 3ms/step - loss: 0.4834 - accuracy: 0.7727 - val_loss: 0.4575 - val_accuracy: 0.7913\n",
            "Epoch 8/20\n",
            "3200/3200 [==============================] - 11s 3ms/step - loss: 0.4798 - accuracy: 0.7754 - val_loss: 0.4616 - val_accuracy: 0.7896\n",
            "Epoch 9/20\n",
            "3200/3200 [==============================] - 11s 3ms/step - loss: 0.4819 - accuracy: 0.7751 - val_loss: 0.4657 - val_accuracy: 0.7859\n",
            "Epoch 10/20\n",
            "3200/3200 [==============================] - 10s 3ms/step - loss: 0.4794 - accuracy: 0.7769 - val_loss: 0.4683 - val_accuracy: 0.7880\n",
            "Epoch 11/20\n",
            "3200/3200 [==============================] - 10s 3ms/step - loss: 0.4802 - accuracy: 0.7753 - val_loss: 0.4756 - val_accuracy: 0.7842\n",
            "Epoch 12/20\n",
            "3200/3200 [==============================] - 10s 3ms/step - loss: 0.4790 - accuracy: 0.7778 - val_loss: 0.4613 - val_accuracy: 0.7911\n",
            "Epoch 13/20\n",
            "3200/3200 [==============================] - 10s 3ms/step - loss: 0.4776 - accuracy: 0.7779 - val_loss: 0.4628 - val_accuracy: 0.7902\n",
            "Epoch 14/20\n",
            "3200/3200 [==============================] - 10s 3ms/step - loss: 0.4805 - accuracy: 0.7764 - val_loss: 0.4639 - val_accuracy: 0.7894\n",
            "Epoch 15/20\n",
            "3200/3200 [==============================] - 10s 3ms/step - loss: 0.4807 - accuracy: 0.7781 - val_loss: 0.4599 - val_accuracy: 0.7901\n",
            "Epoch 16/20\n",
            "3200/3200 [==============================] - 10s 3ms/step - loss: 0.4759 - accuracy: 0.7803 - val_loss: 0.4655 - val_accuracy: 0.7885\n",
            "Epoch 17/20\n",
            "3200/3200 [==============================] - 10s 3ms/step - loss: 0.4762 - accuracy: 0.7777 - val_loss: 0.4746 - val_accuracy: 0.7796\n",
            "Epoch 18/20\n",
            "3200/3200 [==============================] - 10s 3ms/step - loss: 0.4748 - accuracy: 0.7794 - val_loss: 0.4687 - val_accuracy: 0.7869\n",
            "Epoch 19/20\n",
            "3200/3200 [==============================] - 10s 3ms/step - loss: 0.4758 - accuracy: 0.7790 - val_loss: 0.4830 - val_accuracy: 0.7782\n",
            "Epoch 20/20\n",
            "3200/3200 [==============================] - 10s 3ms/step - loss: 0.4762 - accuracy: 0.7790 - val_loss: 0.4794 - val_accuracy: 0.7744\n"
          ],
          "name": "stdout"
        }
      ]
    },
    {
      "cell_type": "code",
      "metadata": {
        "colab": {
          "base_uri": "https://localhost:8080/"
        },
        "id": "Yl7IvsOJvYvY",
        "outputId": "bc9ff1fe-f51d-412c-e181-80f2c1cc5eea"
      },
      "source": [
        "baseline_time"
      ],
      "execution_count": null,
      "outputs": [
        {
          "output_type": "execute_result",
          "data": {
            "text/plain": [
              "206.18462303499996"
            ]
          },
          "metadata": {
            "tags": []
          },
          "execution_count": 15
        }
      ]
    },
    {
      "cell_type": "markdown",
      "metadata": {
        "id": "T4etsLJJVjKj"
      },
      "source": [
        "Evaluate the performance of the model."
      ]
    },
    {
      "cell_type": "code",
      "metadata": {
        "colab": {
          "base_uri": "https://localhost:8080/"
        },
        "id": "TJQH65OUVmG-",
        "outputId": "9cc84adf-cbef-4ac9-a07d-85862d4e709f"
      },
      "source": [
        "_, accuracy = model_primary.evaluate(X_test, y_test)"
      ],
      "execution_count": null,
      "outputs": [
        {
          "output_type": "stream",
          "text": [
            "250/250 [==============================] - 1s 2ms/step - loss: 0.4832 - accuracy: 0.7756\n"
          ],
          "name": "stdout"
        }
      ]
    },
    {
      "cell_type": "code",
      "metadata": {
        "colab": {
          "base_uri": "https://localhost:8080/"
        },
        "id": "GOnIsUQXrxqA",
        "outputId": "3147e7c0-a33b-4ecf-d75e-6893de6f447e"
      },
      "source": [
        "from sklearn.metrics import roc_curve, auc\n",
        "\n",
        "# Evaluate on validation set\n",
        "score = model_primary.evaluate(X_val, y_val, verbose=1)\n",
        "print('\\nValidation loss / accuracy: %0.4f / %0.4f'%(score[0], score[1]))\n",
        "y_pred = model_primary.predict(X_val)\n",
        "fpr, tpr, _ = roc_curve(y_val, y_pred)\n",
        "roc_auc = auc(fpr, tpr)\n",
        "print('Validation ROC AUC:', roc_auc)\n",
        "\n",
        "# Evaluate on test set\n",
        "score = model_primary.evaluate(X_test, y_test, verbose=1)\n",
        "print('\\nTest loss / accuracy: %0.4f / %0.4f'%(score[0], score[1]))\n",
        "y_pred = model_primary.predict(X_test)\n",
        "fpr, tpr, _ = roc_curve(y_test, y_pred)\n",
        "roc_auc = auc(fpr, tpr)\n",
        "print('Test ROC AUC:', roc_auc)\n",
        "\n",
        "#To use later, comparing to the PCA datasets:\n",
        "\n",
        "acc_primary = score[1]\n",
        "roc_auc_primary = roc_auc\n",
        "loss_primary = score[0]"
      ],
      "execution_count": null,
      "outputs": [
        {
          "output_type": "stream",
          "text": [
            "313/313 [==============================] - 1s 2ms/step - loss: 0.4794 - accuracy: 0.7744\n",
            "\n",
            "Validation loss / accuracy: 0.4794 / 0.7744\n",
            "Validation ROC AUC: 0.8549313605005504\n",
            "250/250 [==============================] - 1s 2ms/step - loss: 0.4832 - accuracy: 0.7756\n",
            "\n",
            "Test loss / accuracy: 0.4832 / 0.7756\n",
            "Test ROC AUC: 0.8497857568627452\n"
          ],
          "name": "stdout"
        }
      ]
    },
    {
      "cell_type": "code",
      "metadata": {
        "colab": {
          "base_uri": "https://localhost:8080/",
          "height": 295
        },
        "id": "2zPoqfAwr2bj",
        "outputId": "fed77060-7b16-4c95-8e38-b7f7f9b2034c"
      },
      "source": [
        "import matplotlib.pyplot as plt\n",
        "\n",
        "plt.plot([0, 1], [0, 1], 'k--')\n",
        "#plt.legend(loc=2, prop={'size': 15})\n",
        "plt.plot(fpr, tpr, label='Model 1 (ROC-AUC = {:.3f})'.format(roc_auc))\n",
        "plt.xlabel('False positive rate')\n",
        "plt.ylabel('True positive rate')\n",
        "plt.title('ROC curve - Low level variables only')\n",
        "plt.legend(loc='best')\n",
        "plt.show()"
      ],
      "execution_count": null,
      "outputs": [
        {
          "output_type": "display_data",
          "data": {
            "image/png": "[encoded data removed]",
            "text/plain": [
              "<Figure size 432x288 with 1 Axes>"
            ]
          },
          "metadata": {
            "tags": [],
            "needs_background": "light"
          }
        }
      ]
    },
    {
      "cell_type": "markdown",
      "metadata": {
        "id": "rOYJxYDZcRl7"
      },
      "source": [
        "PCA\n"
      ]
    },
    {
      "cell_type": "code",
      "metadata": {
        "colab": {
          "base_uri": "https://localhost:8080/"
        },
        "id": "oEzJZ6yGcUF6",
        "outputId": "7b93b683-782f-4de3-ca00-2aeeedb56449"
      },
      "source": [
        "from sklearn.decomposition import IncrementalPCA\n",
        "\n",
        "\n",
        "inc_pcas = []\n",
        "models = []\n",
        "accuracies = []\n",
        "aucs = []\n",
        "losses = []\n",
        "training_times = []\n",
        "\n",
        "n_batches=100\n",
        "\n",
        "cutoff = 7  #The maximum number of reduced dimensions we'll look at.\n",
        "assert((0 < cutoff) and (cutoff < num_dims))\n",
        "\n",
        "for d in range(1, cutoff+1):\n",
        "  \n",
        "  inc_pca = IncrementalPCA(n_components=d)\n",
        "  for X_batch in np.array_split(X_train, n_batches):\n",
        "    inc_pca.partial_fit(X_batch)\n",
        "  inc_pcas.append(inc_pca)\n",
        "\n",
        "  X_train_reduced = inc_pca.transform(X_train)\n",
        "  X_val_reduced = inc_pca.transform(X_val)\n",
        "  X_test_reduced = inc_pca.transform(X_test)\n",
        "\n",
        "  model_reduced = create_model()\n",
        "  model_reduced.compile(loss='binary_crossentropy', optimizer=opt, metrics=['accuracy'])\n",
        "  \n",
        "  t1 = time.perf_counter()\n",
        "  model_reduced.fit(X_train_reduced, y_train, validation_data=(X_val_reduced, y_val), epochs=20, batch_size=10)\n",
        "  t2 = time.perf_counter()\n",
        "  training_times.append(t2-t1)\n",
        "\n",
        "  models.append(model_reduced)\n",
        "\n",
        "  loss, accuracy = model_reduced.evaluate(X_test_reduced, y_test)\n",
        "  accuracies.append(accuracy)\n",
        "  losses.append(loss)\n",
        "\n",
        "  y_pred_reduced = model_reduced.predict(X_test_reduced)\n",
        "  fpr, tpr, _ = roc_curve(y_test, y_pred_reduced)\n",
        "  roc_auc = auc(fpr, tpr)  \n",
        "  aucs.append(roc_auc)\n"
      ],
      "execution_count": null,
      "outputs": [
        {
          "output_type": "stream",
          "text": [
            "Epoch 1/20\n",
            "3200/3200 [==============================] - 11s 3ms/step - loss: 0.7282 - accuracy: 0.5224 - val_loss: 0.7016 - val_accuracy: 0.5092\n",
            "Epoch 2/20\n",
            "3200/3200 [==============================] - 10s 3ms/step - loss: 0.6958 - accuracy: 0.5288 - val_loss: 0.6979 - val_accuracy: 0.5170\n",
            "Epoch 3/20\n",
            "3200/3200 [==============================] - 10s 3ms/step - loss: 0.6929 - accuracy: 0.5270 - val_loss: 0.6904 - val_accuracy: 0.5389\n",
            "Epoch 4/20\n",
            "3200/3200 [==============================] - 10s 3ms/step - loss: 0.6919 - accuracy: 0.5309 - val_loss: 0.6895 - val_accuracy: 0.5378\n",
            "Epoch 5/20\n",
            "3200/3200 [==============================] - 10s 3ms/step - loss: 0.6911 - accuracy: 0.5341 - val_loss: 0.6937 - val_accuracy: 0.5342\n",
            "Epoch 6/20\n",
            "3200/3200 [==============================] - 10s 3ms/step - loss: 0.6893 - accuracy: 0.5298 - val_loss: 0.6869 - val_accuracy: 0.5344\n",
            "Epoch 7/20\n",
            "3200/3200 [==============================] - 11s 3ms/step - loss: 0.6893 - accuracy: 0.5388 - val_loss: 0.6864 - val_accuracy: 0.5349\n",
            "Epoch 8/20\n",
            "3200/3200 [==============================] - 10s 3ms/step - loss: 0.6889 - accuracy: 0.5366 - val_loss: 0.7008 - val_accuracy: 0.5329\n",
            "Epoch 9/20\n",
            "3200/3200 [==============================] - 11s 3ms/step - loss: 0.6886 - accuracy: 0.5350 - val_loss: 0.6917 - val_accuracy: 0.5378\n",
            "Epoch 10/20\n",
            "3200/3200 [==============================] - 10s 3ms/step - loss: 0.6884 - accuracy: 0.5314 - val_loss: 0.6974 - val_accuracy: 0.5359\n",
            "Epoch 11/20\n",
            "3200/3200 [==============================] - 10s 3ms/step - loss: 0.6852 - accuracy: 0.5421 - val_loss: 0.6840 - val_accuracy: 0.5378\n",
            "Epoch 12/20\n",
            "3200/3200 [==============================] - 10s 3ms/step - loss: 0.6858 - accuracy: 0.5442 - val_loss: 0.6836 - val_accuracy: 0.5378\n",
            "Epoch 13/20\n",
            "3200/3200 [==============================] - 10s 3ms/step - loss: 0.6872 - accuracy: 0.5348 - val_loss: 0.6839 - val_accuracy: 0.5360\n",
            "Epoch 14/20\n",
            "3200/3200 [==============================] - 10s 3ms/step - loss: 0.6873 - accuracy: 0.5352 - val_loss: 0.6891 - val_accuracy: 0.5378\n",
            "Epoch 15/20\n",
            "3200/3200 [==============================] - 10s 3ms/step - loss: 0.6855 - accuracy: 0.5404 - val_loss: 0.6888 - val_accuracy: 0.5378\n",
            "Epoch 16/20\n",
            "3200/3200 [==============================] - 10s 3ms/step - loss: 0.6867 - accuracy: 0.5324 - val_loss: 0.6862 - val_accuracy: 0.5378\n",
            "Epoch 17/20\n",
            "3200/3200 [==============================] - 10s 3ms/step - loss: 0.6859 - accuracy: 0.5350 - val_loss: 0.6900 - val_accuracy: 0.5378\n",
            "Epoch 18/20\n",
            "3200/3200 [==============================] - 10s 3ms/step - loss: 0.6853 - accuracy: 0.5427 - val_loss: 0.6852 - val_accuracy: 0.5378\n",
            "Epoch 19/20\n",
            "3200/3200 [==============================] - 10s 3ms/step - loss: 0.6851 - accuracy: 0.5408 - val_loss: 0.7027 - val_accuracy: 0.5358\n",
            "Epoch 20/20\n",
            "3200/3200 [==============================] - 10s 3ms/step - loss: 0.6869 - accuracy: 0.5365 - val_loss: 0.6877 - val_accuracy: 0.5342\n",
            "250/250 [==============================] - 1s 2ms/step - loss: 0.6846 - accuracy: 0.5394\n",
            "Epoch 1/20\n",
            "3200/3200 [==============================] - 11s 3ms/step - loss: 0.7237 - accuracy: 0.5509 - val_loss: 0.7019 - val_accuracy: 0.5303\n",
            "Epoch 2/20\n",
            "3200/3200 [==============================] - 10s 3ms/step - loss: 0.6812 - accuracy: 0.5611 - val_loss: 0.6653 - val_accuracy: 0.5941\n",
            "Epoch 3/20\n",
            "3200/3200 [==============================] - 10s 3ms/step - loss: 0.6728 - accuracy: 0.5767 - val_loss: 0.6775 - val_accuracy: 0.5595\n",
            "Epoch 4/20\n",
            "3200/3200 [==============================] - 10s 3ms/step - loss: 0.6700 - accuracy: 0.5760 - val_loss: 0.6724 - val_accuracy: 0.5871\n",
            "Epoch 5/20\n",
            "3200/3200 [==============================] - 10s 3ms/step - loss: 0.6661 - accuracy: 0.5856 - val_loss: 0.6686 - val_accuracy: 0.5873\n",
            "Epoch 6/20\n",
            "3200/3200 [==============================] - 10s 3ms/step - loss: 0.6683 - accuracy: 0.5840 - val_loss: 0.6677 - val_accuracy: 0.5921\n",
            "Epoch 7/20\n",
            "3200/3200 [==============================] - 10s 3ms/step - loss: 0.6683 - accuracy: 0.5841 - val_loss: 0.6671 - val_accuracy: 0.5845\n",
            "Epoch 8/20\n",
            "3200/3200 [==============================] - 10s 3ms/step - loss: 0.6657 - accuracy: 0.5855 - val_loss: 0.6631 - val_accuracy: 0.5915\n",
            "Epoch 9/20\n",
            "3200/3200 [==============================] - 10s 3ms/step - loss: 0.6647 - accuracy: 0.5854 - val_loss: 0.6636 - val_accuracy: 0.5877\n",
            "Epoch 10/20\n",
            "3200/3200 [==============================] - 10s 3ms/step - loss: 0.6644 - accuracy: 0.5814 - val_loss: 0.6611 - val_accuracy: 0.5962\n",
            "Epoch 11/20\n",
            "3200/3200 [==============================] - 10s 3ms/step - loss: 0.6625 - accuracy: 0.5884 - val_loss: 0.6632 - val_accuracy: 0.5880\n",
            "Epoch 12/20\n",
            "3200/3200 [==============================] - 10s 3ms/step - loss: 0.6611 - accuracy: 0.5880 - val_loss: 0.6648 - val_accuracy: 0.5826\n",
            "Epoch 13/20\n",
            "3200/3200 [==============================] - 10s 3ms/step - loss: 0.6616 - accuracy: 0.5868 - val_loss: 0.6625 - val_accuracy: 0.5842\n",
            "Epoch 14/20\n",
            "3200/3200 [==============================] - 10s 3ms/step - loss: 0.6628 - accuracy: 0.5862 - val_loss: 0.6632 - val_accuracy: 0.5912\n",
            "Epoch 15/20\n",
            "3200/3200 [==============================] - 10s 3ms/step - loss: 0.6605 - accuracy: 0.5926 - val_loss: 0.6648 - val_accuracy: 0.5868\n",
            "Epoch 16/20\n",
            "3200/3200 [==============================] - 10s 3ms/step - loss: 0.6621 - accuracy: 0.5879 - val_loss: 0.6621 - val_accuracy: 0.5888\n",
            "Epoch 17/20\n",
            "3200/3200 [==============================] - 10s 3ms/step - loss: 0.6637 - accuracy: 0.5871 - val_loss: 0.6641 - val_accuracy: 0.5859\n",
            "Epoch 18/20\n",
            "3200/3200 [==============================] - 10s 3ms/step - loss: 0.6661 - accuracy: 0.5801 - val_loss: 0.6658 - val_accuracy: 0.5911\n",
            "Epoch 19/20\n",
            "3200/3200 [==============================] - 10s 3ms/step - loss: 0.6614 - accuracy: 0.5929 - val_loss: 0.6611 - val_accuracy: 0.5920\n",
            "Epoch 20/20\n",
            "3200/3200 [==============================] - 10s 3ms/step - loss: 0.6624 - accuracy: 0.5833 - val_loss: 0.6635 - val_accuracy: 0.5908\n",
            "250/250 [==============================] - 1s 2ms/step - loss: 0.6610 - accuracy: 0.5904\n",
            "Epoch 1/20\n",
            "3200/3200 [==============================] - 11s 3ms/step - loss: 0.7175 - accuracy: 0.5686 - val_loss: 0.6808 - val_accuracy: 0.5865\n",
            "Epoch 2/20\n",
            "3200/3200 [==============================] - 10s 3ms/step - loss: 0.6623 - accuracy: 0.6082 - val_loss: 0.6487 - val_accuracy: 0.6216\n",
            "Epoch 3/20\n",
            "3200/3200 [==============================] - 10s 3ms/step - loss: 0.6553 - accuracy: 0.6177 - val_loss: 0.6570 - val_accuracy: 0.6084\n",
            "Epoch 4/20\n",
            "3200/3200 [==============================] - 10s 3ms/step - loss: 0.6539 - accuracy: 0.6117 - val_loss: 0.6375 - val_accuracy: 0.6358\n",
            "Epoch 5/20\n",
            "3200/3200 [==============================] - 10s 3ms/step - loss: 0.6526 - accuracy: 0.6157 - val_loss: 0.6389 - val_accuracy: 0.6329\n",
            "Epoch 6/20\n",
            "3200/3200 [==============================] - 10s 3ms/step - loss: 0.6477 - accuracy: 0.6167 - val_loss: 0.6452 - val_accuracy: 0.6296\n",
            "Epoch 7/20\n",
            "3200/3200 [==============================] - 10s 3ms/step - loss: 0.6464 - accuracy: 0.6225 - val_loss: 0.6421 - val_accuracy: 0.6252\n",
            "Epoch 8/20\n",
            "3200/3200 [==============================] - 10s 3ms/step - loss: 0.6450 - accuracy: 0.6251 - val_loss: 0.6382 - val_accuracy: 0.6284\n",
            "Epoch 9/20\n",
            "3200/3200 [==============================] - 10s 3ms/step - loss: 0.6413 - accuracy: 0.6261 - val_loss: 0.6378 - val_accuracy: 0.6299\n",
            "Epoch 10/20\n",
            "3200/3200 [==============================] - 10s 3ms/step - loss: 0.6404 - accuracy: 0.6270 - val_loss: 0.6379 - val_accuracy: 0.6307\n",
            "Epoch 11/20\n",
            "3200/3200 [==============================] - 10s 3ms/step - loss: 0.6431 - accuracy: 0.6223 - val_loss: 0.6382 - val_accuracy: 0.6307\n",
            "Epoch 12/20\n",
            "3200/3200 [==============================] - 10s 3ms/step - loss: 0.6419 - accuracy: 0.6271 - val_loss: 0.6380 - val_accuracy: 0.6344\n",
            "Epoch 13/20\n",
            "3200/3200 [==============================] - 10s 3ms/step - loss: 0.6397 - accuracy: 0.6311 - val_loss: 0.6395 - val_accuracy: 0.6324\n",
            "Epoch 14/20\n",
            "3200/3200 [==============================] - 10s 3ms/step - loss: 0.6384 - accuracy: 0.6327 - val_loss: 0.6343 - val_accuracy: 0.6339\n",
            "Epoch 15/20\n",
            "3200/3200 [==============================] - 10s 3ms/step - loss: 0.6381 - accuracy: 0.6285 - val_loss: 0.6338 - val_accuracy: 0.6294\n",
            "Epoch 16/20\n",
            "3200/3200 [==============================] - 10s 3ms/step - loss: 0.6411 - accuracy: 0.6267 - val_loss: 0.6391 - val_accuracy: 0.6336\n",
            "Epoch 17/20\n",
            "3200/3200 [==============================] - 10s 3ms/step - loss: 0.6375 - accuracy: 0.6279 - val_loss: 0.6419 - val_accuracy: 0.6351\n",
            "Epoch 18/20\n",
            "3200/3200 [==============================] - 10s 3ms/step - loss: 0.6381 - accuracy: 0.6231 - val_loss: 0.6423 - val_accuracy: 0.6272\n",
            "Epoch 19/20\n",
            "3200/3200 [==============================] - 10s 3ms/step - loss: 0.6368 - accuracy: 0.6275 - val_loss: 0.6401 - val_accuracy: 0.6271\n",
            "Epoch 20/20\n",
            "3200/3200 [==============================] - 10s 3ms/step - loss: 0.6350 - accuracy: 0.6276 - val_loss: 0.6382 - val_accuracy: 0.6380\n",
            "250/250 [==============================] - 1s 2ms/step - loss: 0.6339 - accuracy: 0.6309\n",
            "Epoch 1/20\n",
            "3200/3200 [==============================] - 11s 3ms/step - loss: 0.5855 - accuracy: 0.7254 - val_loss: 0.5127 - val_accuracy: 0.7585\n",
            "Epoch 2/20\n",
            "3200/3200 [==============================] - 10s 3ms/step - loss: 0.5400 - accuracy: 0.7444 - val_loss: 0.5114 - val_accuracy: 0.7572\n",
            "Epoch 3/20\n",
            "3200/3200 [==============================] - 10s 3ms/step - loss: 0.5359 - accuracy: 0.7451 - val_loss: 0.5147 - val_accuracy: 0.7604\n",
            "Epoch 4/20\n",
            "3200/3200 [==============================] - 10s 3ms/step - loss: 0.5284 - accuracy: 0.7517 - val_loss: 0.5012 - val_accuracy: 0.7691\n",
            "Epoch 5/20\n",
            "3200/3200 [==============================] - 10s 3ms/step - loss: 0.5222 - accuracy: 0.7502 - val_loss: 0.5002 - val_accuracy: 0.7684\n",
            "Epoch 6/20\n",
            "3200/3200 [==============================] - 10s 3ms/step - loss: 0.5237 - accuracy: 0.7520 - val_loss: 0.5023 - val_accuracy: 0.7676\n",
            "Epoch 7/20\n",
            "3200/3200 [==============================] - 10s 3ms/step - loss: 0.5222 - accuracy: 0.7500 - val_loss: 0.4972 - val_accuracy: 0.7700\n",
            "Epoch 8/20\n",
            "3200/3200 [==============================] - 10s 3ms/step - loss: 0.5170 - accuracy: 0.7539 - val_loss: 0.4952 - val_accuracy: 0.7691\n",
            "Epoch 9/20\n",
            "3200/3200 [==============================] - 10s 3ms/step - loss: 0.5226 - accuracy: 0.7549 - val_loss: 0.4911 - val_accuracy: 0.7720\n",
            "Epoch 10/20\n",
            "3200/3200 [==============================] - 10s 3ms/step - loss: 0.5251 - accuracy: 0.7491 - val_loss: 0.4906 - val_accuracy: 0.7722\n",
            "Epoch 11/20\n",
            "3200/3200 [==============================] - 10s 3ms/step - loss: 0.5127 - accuracy: 0.7560 - val_loss: 0.4976 - val_accuracy: 0.7725\n",
            "Epoch 12/20\n",
            "3200/3200 [==============================] - 10s 3ms/step - loss: 0.5188 - accuracy: 0.7534 - val_loss: 0.4949 - val_accuracy: 0.7695\n",
            "Epoch 13/20\n",
            "3200/3200 [==============================] - 10s 3ms/step - loss: 0.5161 - accuracy: 0.7562 - val_loss: 0.4948 - val_accuracy: 0.7704\n",
            "Epoch 14/20\n",
            "3200/3200 [==============================] - 10s 3ms/step - loss: 0.5118 - accuracy: 0.7586 - val_loss: 0.4914 - val_accuracy: 0.7717\n",
            "Epoch 15/20\n",
            "3200/3200 [==============================] - 10s 3ms/step - loss: 0.5131 - accuracy: 0.7585 - val_loss: 0.4934 - val_accuracy: 0.7705\n",
            "Epoch 16/20\n",
            "3200/3200 [==============================] - 10s 3ms/step - loss: 0.5095 - accuracy: 0.7645 - val_loss: 0.4930 - val_accuracy: 0.7682\n",
            "Epoch 17/20\n",
            "3200/3200 [==============================] - 10s 3ms/step - loss: 0.5114 - accuracy: 0.7571 - val_loss: 0.4948 - val_accuracy: 0.7720\n",
            "Epoch 18/20\n",
            "3200/3200 [==============================] - 10s 3ms/step - loss: 0.5174 - accuracy: 0.7577 - val_loss: 0.4954 - val_accuracy: 0.7684\n",
            "Epoch 19/20\n",
            "3200/3200 [==============================] - 10s 3ms/step - loss: 0.5171 - accuracy: 0.7549 - val_loss: 0.4931 - val_accuracy: 0.7697\n",
            "Epoch 20/20\n",
            "3200/3200 [==============================] - 10s 3ms/step - loss: 0.5092 - accuracy: 0.7599 - val_loss: 0.4888 - val_accuracy: 0.7725\n",
            "250/250 [==============================] - 1s 2ms/step - loss: 0.5032 - accuracy: 0.7596\n",
            "Epoch 1/20\n",
            "3200/3200 [==============================] - 11s 3ms/step - loss: 0.5953 - accuracy: 0.7200 - val_loss: 0.5083 - val_accuracy: 0.7663\n",
            "Epoch 2/20\n",
            "3200/3200 [==============================] - 10s 3ms/step - loss: 0.5346 - accuracy: 0.7434 - val_loss: 0.5024 - val_accuracy: 0.7655\n",
            "Epoch 3/20\n",
            "3200/3200 [==============================] - 10s 3ms/step - loss: 0.5297 - accuracy: 0.7497 - val_loss: 0.5079 - val_accuracy: 0.7661\n",
            "Epoch 4/20\n",
            "3200/3200 [==============================] - 10s 3ms/step - loss: 0.5300 - accuracy: 0.7486 - val_loss: 0.5131 - val_accuracy: 0.7491\n",
            "Epoch 5/20\n",
            "3200/3200 [==============================] - 10s 3ms/step - loss: 0.5334 - accuracy: 0.7458 - val_loss: 0.4997 - val_accuracy: 0.7681\n",
            "Epoch 6/20\n",
            "3200/3200 [==============================] - 10s 3ms/step - loss: 0.5252 - accuracy: 0.7500 - val_loss: 0.4930 - val_accuracy: 0.7692\n",
            "Epoch 7/20\n",
            "3200/3200 [==============================] - 10s 3ms/step - loss: 0.5161 - accuracy: 0.7554 - val_loss: 0.5017 - val_accuracy: 0.7690\n",
            "Epoch 8/20\n",
            "3200/3200 [==============================] - 10s 3ms/step - loss: 0.5227 - accuracy: 0.7535 - val_loss: 0.4924 - val_accuracy: 0.7707\n",
            "Epoch 9/20\n",
            "3200/3200 [==============================] - 10s 3ms/step - loss: 0.5192 - accuracy: 0.7544 - val_loss: 0.4908 - val_accuracy: 0.7719\n",
            "Epoch 10/20\n",
            "3200/3200 [==============================] - 10s 3ms/step - loss: 0.5208 - accuracy: 0.7517 - val_loss: 0.4900 - val_accuracy: 0.7731\n",
            "Epoch 11/20\n",
            "3200/3200 [==============================] - 10s 3ms/step - loss: 0.5162 - accuracy: 0.7536 - val_loss: 0.4919 - val_accuracy: 0.7713\n",
            "Epoch 12/20\n",
            "3200/3200 [==============================] - 10s 3ms/step - loss: 0.5121 - accuracy: 0.7555 - val_loss: 0.4900 - val_accuracy: 0.7742\n",
            "Epoch 13/20\n",
            "3200/3200 [==============================] - 11s 3ms/step - loss: 0.5129 - accuracy: 0.7549 - val_loss: 0.4879 - val_accuracy: 0.7692\n",
            "Epoch 14/20\n",
            "3200/3200 [==============================] - 10s 3ms/step - loss: 0.5099 - accuracy: 0.7570 - val_loss: 0.4837 - val_accuracy: 0.7731\n",
            "Epoch 15/20\n",
            "3200/3200 [==============================] - 10s 3ms/step - loss: 0.5136 - accuracy: 0.7568 - val_loss: 0.4996 - val_accuracy: 0.7677\n",
            "Epoch 16/20\n",
            "3200/3200 [==============================] - 10s 3ms/step - loss: 0.5129 - accuracy: 0.7525 - val_loss: 0.4863 - val_accuracy: 0.7698\n",
            "Epoch 17/20\n",
            "3200/3200 [==============================] - 10s 3ms/step - loss: 0.5121 - accuracy: 0.7566 - val_loss: 0.4855 - val_accuracy: 0.7720\n",
            "Epoch 18/20\n",
            "3200/3200 [==============================] - 10s 3ms/step - loss: 0.5055 - accuracy: 0.7620 - val_loss: 0.4827 - val_accuracy: 0.7727\n",
            "Epoch 19/20\n",
            "3200/3200 [==============================] - 10s 3ms/step - loss: 0.5121 - accuracy: 0.7567 - val_loss: 0.4919 - val_accuracy: 0.7694\n",
            "Epoch 20/20\n",
            "3200/3200 [==============================] - 10s 3ms/step - loss: 0.5104 - accuracy: 0.7565 - val_loss: 0.4819 - val_accuracy: 0.7761\n",
            "250/250 [==============================] - 1s 2ms/step - loss: 0.4939 - accuracy: 0.7649\n",
            "Epoch 1/20\n",
            "3200/3200 [==============================] - 11s 3ms/step - loss: 0.5842 - accuracy: 0.7249 - val_loss: 0.5015 - val_accuracy: 0.7627\n",
            "Epoch 2/20\n",
            "3200/3200 [==============================] - 10s 3ms/step - loss: 0.5287 - accuracy: 0.7482 - val_loss: 0.5027 - val_accuracy: 0.7669\n",
            "Epoch 3/20\n",
            "3200/3200 [==============================] - 10s 3ms/step - loss: 0.5217 - accuracy: 0.7514 - val_loss: 0.4859 - val_accuracy: 0.7719\n",
            "Epoch 4/20\n",
            "3200/3200 [==============================] - 10s 3ms/step - loss: 0.5228 - accuracy: 0.7457 - val_loss: 0.4923 - val_accuracy: 0.7707\n",
            "Epoch 5/20\n",
            "3200/3200 [==============================] - 10s 3ms/step - loss: 0.5145 - accuracy: 0.7532 - val_loss: 0.5049 - val_accuracy: 0.7669\n",
            "Epoch 6/20\n",
            "3200/3200 [==============================] - 10s 3ms/step - loss: 0.5128 - accuracy: 0.7575 - val_loss: 0.4874 - val_accuracy: 0.7730\n",
            "Epoch 7/20\n",
            "3200/3200 [==============================] - 10s 3ms/step - loss: 0.5133 - accuracy: 0.7583 - val_loss: 0.4999 - val_accuracy: 0.7671\n",
            "Epoch 8/20\n",
            "3200/3200 [==============================] - 10s 3ms/step - loss: 0.5094 - accuracy: 0.7555 - val_loss: 0.4831 - val_accuracy: 0.7734\n",
            "Epoch 9/20\n",
            "3200/3200 [==============================] - 10s 3ms/step - loss: 0.5099 - accuracy: 0.7577 - val_loss: 0.4880 - val_accuracy: 0.7737\n",
            "Epoch 10/20\n",
            "3200/3200 [==============================] - 10s 3ms/step - loss: 0.5120 - accuracy: 0.7545 - val_loss: 0.4869 - val_accuracy: 0.7729\n",
            "Epoch 11/20\n",
            "3200/3200 [==============================] - 10s 3ms/step - loss: 0.5119 - accuracy: 0.7607 - val_loss: 0.4802 - val_accuracy: 0.7764\n",
            "Epoch 12/20\n",
            "3200/3200 [==============================] - 10s 3ms/step - loss: 0.5039 - accuracy: 0.7657 - val_loss: 0.4777 - val_accuracy: 0.7770\n",
            "Epoch 13/20\n",
            "3200/3200 [==============================] - 10s 3ms/step - loss: 0.5017 - accuracy: 0.7627 - val_loss: 0.4777 - val_accuracy: 0.7772\n",
            "Epoch 14/20\n",
            "3200/3200 [==============================] - 10s 3ms/step - loss: 0.5026 - accuracy: 0.7633 - val_loss: 0.4885 - val_accuracy: 0.7712\n",
            "Epoch 15/20\n",
            "3200/3200 [==============================] - 10s 3ms/step - loss: 0.4974 - accuracy: 0.7664 - val_loss: 0.4806 - val_accuracy: 0.7754\n",
            "Epoch 16/20\n",
            "3200/3200 [==============================] - 10s 3ms/step - loss: 0.5026 - accuracy: 0.7634 - val_loss: 0.4789 - val_accuracy: 0.7729\n",
            "Epoch 17/20\n",
            "3200/3200 [==============================] - 10s 3ms/step - loss: 0.5090 - accuracy: 0.7573 - val_loss: 0.4764 - val_accuracy: 0.7774\n",
            "Epoch 18/20\n",
            "3200/3200 [==============================] - 10s 3ms/step - loss: 0.4998 - accuracy: 0.7646 - val_loss: 0.4770 - val_accuracy: 0.7767\n",
            "Epoch 19/20\n",
            "3200/3200 [==============================] - 10s 3ms/step - loss: 0.5026 - accuracy: 0.7634 - val_loss: 0.4829 - val_accuracy: 0.7764\n",
            "Epoch 20/20\n",
            "3200/3200 [==============================] - 10s 3ms/step - loss: 0.4972 - accuracy: 0.7696 - val_loss: 0.4834 - val_accuracy: 0.7767\n",
            "250/250 [==============================] - 1s 2ms/step - loss: 0.4948 - accuracy: 0.7670\n",
            "Epoch 1/20\n",
            "3200/3200 [==============================] - 11s 3ms/step - loss: 0.5935 - accuracy: 0.7125 - val_loss: 0.4818 - val_accuracy: 0.7781\n",
            "Epoch 2/20\n",
            "3200/3200 [==============================] - 11s 3ms/step - loss: 0.5156 - accuracy: 0.7494 - val_loss: 0.4905 - val_accuracy: 0.7789\n",
            "Epoch 3/20\n",
            "3200/3200 [==============================] - 11s 3ms/step - loss: 0.5159 - accuracy: 0.7520 - val_loss: 0.5000 - val_accuracy: 0.7698\n",
            "Epoch 4/20\n",
            "3200/3200 [==============================] - 10s 3ms/step - loss: 0.5104 - accuracy: 0.7537 - val_loss: 0.4772 - val_accuracy: 0.7758\n",
            "Epoch 5/20\n",
            "3200/3200 [==============================] - 10s 3ms/step - loss: 0.5097 - accuracy: 0.7516 - val_loss: 0.4797 - val_accuracy: 0.7779\n",
            "Epoch 6/20\n",
            "3200/3200 [==============================] - 10s 3ms/step - loss: 0.5060 - accuracy: 0.7569 - val_loss: 0.4730 - val_accuracy: 0.7782\n",
            "Epoch 7/20\n",
            "3200/3200 [==============================] - 10s 3ms/step - loss: 0.4981 - accuracy: 0.7657 - val_loss: 0.4767 - val_accuracy: 0.7751\n",
            "Epoch 8/20\n",
            "3200/3200 [==============================] - 10s 3ms/step - loss: 0.5020 - accuracy: 0.7587 - val_loss: 0.4778 - val_accuracy: 0.7782\n",
            "Epoch 9/20\n",
            "3200/3200 [==============================] - 10s 3ms/step - loss: 0.5009 - accuracy: 0.7594 - val_loss: 0.4792 - val_accuracy: 0.7746\n",
            "Epoch 10/20\n",
            "3200/3200 [==============================] - 10s 3ms/step - loss: 0.4918 - accuracy: 0.7659 - val_loss: 0.4790 - val_accuracy: 0.7817\n",
            "Epoch 11/20\n",
            "3200/3200 [==============================] - 10s 3ms/step - loss: 0.4923 - accuracy: 0.7672 - val_loss: 0.4704 - val_accuracy: 0.7828\n",
            "Epoch 12/20\n",
            "3200/3200 [==============================] - 10s 3ms/step - loss: 0.4975 - accuracy: 0.7646 - val_loss: 0.4694 - val_accuracy: 0.7800\n",
            "Epoch 13/20\n",
            "3200/3200 [==============================] - 10s 3ms/step - loss: 0.4986 - accuracy: 0.7640 - val_loss: 0.4725 - val_accuracy: 0.7773\n",
            "Epoch 14/20\n",
            "3200/3200 [==============================] - 10s 3ms/step - loss: 0.4922 - accuracy: 0.7679 - val_loss: 0.4663 - val_accuracy: 0.7857\n",
            "Epoch 15/20\n",
            "3200/3200 [==============================] - 10s 3ms/step - loss: 0.4888 - accuracy: 0.7661 - val_loss: 0.4740 - val_accuracy: 0.7819\n",
            "Epoch 16/20\n",
            "3200/3200 [==============================] - 10s 3ms/step - loss: 0.4895 - accuracy: 0.7688 - val_loss: 0.4687 - val_accuracy: 0.7847\n",
            "Epoch 17/20\n",
            "3200/3200 [==============================] - 10s 3ms/step - loss: 0.4838 - accuracy: 0.7715 - val_loss: 0.4695 - val_accuracy: 0.7852\n",
            "Epoch 18/20\n",
            "3200/3200 [==============================] - 10s 3ms/step - loss: 0.4924 - accuracy: 0.7675 - val_loss: 0.4630 - val_accuracy: 0.7834\n",
            "Epoch 19/20\n",
            "3200/3200 [==============================] - 10s 3ms/step - loss: 0.4855 - accuracy: 0.7706 - val_loss: 0.4611 - val_accuracy: 0.7862\n",
            "Epoch 20/20\n",
            "3200/3200 [==============================] - 10s 3ms/step - loss: 0.4888 - accuracy: 0.7719 - val_loss: 0.4692 - val_accuracy: 0.7835\n",
            "250/250 [==============================] - 1s 2ms/step - loss: 0.4759 - accuracy: 0.7751\n"
          ],
          "name": "stdout"
        }
      ]
    },
    {
      "cell_type": "code",
      "metadata": {
        "id": "lA-aYWnLcpCM"
      },
      "source": [
        "models.append(model_primary)\n",
        "accuracies.append(acc_primary)\n",
        "aucs.append(roc_auc_primary)\n",
        "losses.append(loss_primary)\n",
        "training_times.append(baseline_time)"
      ],
      "execution_count": null,
      "outputs": []
    },
    {
      "cell_type": "code",
      "metadata": {
        "id": "bwkT_wXxdnkH"
      },
      "source": [
        "dims_array = []\n",
        "for i in range(1, cutoff+2):\n",
        "  dims_array.append(i)"
      ],
      "execution_count": null,
      "outputs": []
    },
    {
      "cell_type": "code",
      "metadata": {
        "id": "C7BavN_AdoMh",
        "colab": {
          "base_uri": "https://localhost:8080/",
          "height": 295
        },
        "outputId": "29d023b3-3e8f-4024-bc36-eaac5a3cff87"
      },
      "source": [
        "plt.plot(dims_array, accuracies ,\"x-\")\n",
        "plt.xlabel('Reduced dimensions')\n",
        "plt.ylabel('Accuracy')\n",
        "plt.xticks(dims_array)\n",
        "plt.title(\"Test Accuracy vs. Number of Reduced Dimensions\")\n",
        "plt.show()"
      ],
      "execution_count": null,
      "outputs": [
        {
          "output_type": "display_data",
          "data": {
            "image/png": "[encoded data removed]",
            "text/plain": [
              "<Figure size 432x288 with 1 Axes>"
            ]
          },
          "metadata": {
            "tags": [],
            "needs_background": "light"
          }
        }
      ]
    },
    {
      "cell_type": "code",
      "metadata": {
        "id": "hJn4jExodqQD",
        "colab": {
          "base_uri": "https://localhost:8080/",
          "height": 295
        },
        "outputId": "093461c7-7332-409b-ccab-38ff572c469c"
      },
      "source": [
        "plt.plot(dims_array, aucs, \"x-\")\n",
        "plt.xlabel('Reduced dimensions')\n",
        "plt.ylabel('ROC AUC score')\n",
        "plt.xticks(dims_array)\n",
        "plt.title(\"Test ROC AUC vs. Number of Reduced Dimensions\")\n",
        "plt.show()"
      ],
      "execution_count": null,
      "outputs": [
        {
          "output_type": "display_data",
          "data": {
            "image/png": "[encoded data removed]",
            "text/plain": [
              "<Figure size 432x288 with 1 Axes>"
            ]
          },
          "metadata": {
            "tags": [],
            "needs_background": "light"
          }
        }
      ]
    },
    {
      "cell_type": "code",
      "metadata": {
        "id": "-ARwLwOpdsfc",
        "colab": {
          "base_uri": "https://localhost:8080/",
          "height": 295
        },
        "outputId": "df2cf7bc-6d7c-4242-ab2d-bc610cbc78cf"
      },
      "source": [
        "plt.plot(dims_array, losses,\"x-\")\n",
        "plt.xlabel('Reduced dimensions')\n",
        "plt.ylabel('Loss (BCE)')\n",
        "plt.xticks(dims_array)\n",
        "plt.title(\"Loss vs. Number of Reduced Dimensions\")\n",
        "plt.show()"
      ],
      "execution_count": null,
      "outputs": [
        {
          "output_type": "display_data",
          "data": {
            "image/png": "[encoded data removed]",
            "text/plain": [
              "<Figure size 432x288 with 1 Axes>"
            ]
          },
          "metadata": {
            "tags": [],
            "needs_background": "light"
          }
        }
      ]
    },
    {
      "cell_type": "code",
      "metadata": {
        "colab": {
          "base_uri": "https://localhost:8080/",
          "height": 295
        },
        "id": "r3fe8gYct4lR",
        "outputId": "ae3b778a-3189-429d-c96f-993fa65dfff1"
      },
      "source": [
        "plt.plot(dims_array, training_times,\"x-\")\n",
        "plt.xlabel('Reduced dimensions')\n",
        "plt.ylabel('Training Time (seconds)')\n",
        "plt.xticks(dims_array)\n",
        "plt.title(\"Training Times vs. Number of Reduced Dimensions\")\n",
        "plt.show()"
      ],
      "execution_count": null,
      "outputs": [
        {
          "output_type": "display_data",
          "data": {
            "image/png": "[encoded data removed]",
            "text/plain": [
              "<Figure size 432x288 with 1 Axes>"
            ]
          },
          "metadata": {
            "tags": [],
            "needs_background": "light"
          }
        }
      ]
    }
  ]
}