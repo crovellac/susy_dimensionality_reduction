{
  "nbformat": 4,
  "nbformat_minor": 0,
  "metadata": {
    "colab": {
      "name": "Final_Project_PH582_part3.ipynb",
      "provenance": [],
      "collapsed_sections": []
    },
    "kernelspec": {
      "name": "python3",
      "display_name": "Python 3"
    },
    "language_info": {
      "name": "python"
    },
    "accelerator": "GPU"
  },
  "cells": [
    {
      "cell_type": "markdown",
      "metadata": {
        "id": "k-MeDPZXNAxX"
      },
      "source": [
        "# Abstract"
      ]
    },
    {
      "cell_type": "markdown",
      "metadata": {
        "id": "MQ9Ws1DDNL2K"
      },
      "source": [
        "We use the SUSY dataset and construct a neural network \n",
        "classifier, then apply dimensionality reduction via incrememntal PCA and retrain a network of similar architecture on this \"reduced\" dataset.\n",
        "(Placeholder, we should probably rewrite this)"
      ]
    },
    {
      "cell_type": "markdown",
      "metadata": {
        "id": "u7r6ULlxMVhD"
      },
      "source": [
        "# Setup"
      ]
    },
    {
      "cell_type": "markdown",
      "metadata": {
        "id": "J3gZcfvZMMSl"
      },
      "source": [
        "Import the SUSY dataset"
      ]
    },
    {
      "cell_type": "code",
      "metadata": {
        "colab": {
          "base_uri": "https://localhost:8080/"
        },
        "id": "hCZ0rL7MGNwv",
        "outputId": "a1e10da2-2c31-402b-ee46-7bb7b83bdf00"
      },
      "source": [
        "!wget https://archive.ics.uci.edu/ml/machine-learning-databases/00279/SUSY.csv.gz"
      ],
      "execution_count": 1,
      "outputs": [
        {
          "output_type": "stream",
          "text": [
            "--2021-04-28 00:16:52--  https://archive.ics.uci.edu/ml/machine-learning-databases/00279/SUSY.csv.gz\n",
            "Resolving archive.ics.uci.edu (archive.ics.uci.edu)... 128.195.10.252\n",
            "Connecting to archive.ics.uci.edu (archive.ics.uci.edu)|128.195.10.252|:443... connected.\n",
            "HTTP request sent, awaiting response... 200 OK\n",
            "Length: 922377711 (880M) [application/x-httpd-php]\n",
            "Saving to: ‘SUSY.csv.gz’\n",
            "\n",
            "SUSY.csv.gz         100%[===================>] 879.65M  91.4MB/s    in 10s     \n",
            "\n",
            "2021-04-28 00:17:02 (86.1 MB/s) - ‘SUSY.csv.gz’ saved [922377711/922377711]\n",
            "\n"
          ],
          "name": "stdout"
        }
      ]
    },
    {
      "cell_type": "code",
      "metadata": {
        "id": "OEwoqjVNLvYJ"
      },
      "source": [
        "!gzip -d SUSY.csv.gz"
      ],
      "execution_count": 2,
      "outputs": []
    },
    {
      "cell_type": "code",
      "metadata": {
        "id": "25g8pIeML206"
      },
      "source": [
        "import pandas as pd\n",
        "data = pd.read_csv('./SUSY.csv')"
      ],
      "execution_count": 3,
      "outputs": []
    },
    {
      "cell_type": "markdown",
      "metadata": {
        "id": "ZAdqVIYgMagk"
      },
      "source": [
        "Define X and y as a subset of SUSY.csv (or the entire dataset, commented)"
      ]
    },
    {
      "cell_type": "code",
      "metadata": {
        "id": "j7FurAW1MLBT"
      },
      "source": [
        "#All features: 8 low-level, 10 high-level\n",
        "X=data.iloc[:50000,1:9]\n",
        "y=data.iloc[:50000,0]\n",
        "\n",
        "#Full dataset\n",
        "#X=data.iloc[:,1:]\n",
        "#y=data.iloc[:,0]"
      ],
      "execution_count": 20,
      "outputs": []
    },
    {
      "cell_type": "markdown",
      "metadata": {
        "id": "nE9DOQ4KMzkm"
      },
      "source": [
        "Create the test, train, and validation sets from X and y"
      ]
    },
    {
      "cell_type": "code",
      "metadata": {
        "id": "rXJvdoixM5A8"
      },
      "source": [
        "from sklearn.model_selection import train_test_split\n",
        "\n",
        "X_train1, X_val, y_train1, y_val = train_test_split(X, y, test_size=0.2, random_state=42)\n",
        "X_train, X_test, y_train, y_test = train_test_split(X_train1, y_train1, test_size=0.2, random_state=42)"
      ],
      "execution_count": 5,
      "outputs": []
    },
    {
      "cell_type": "markdown",
      "metadata": {
        "id": "XjiTbBSgOTXx"
      },
      "source": [
        "# Neural Network"
      ]
    },
    {
      "cell_type": "code",
      "metadata": {
        "id": "EzQc4iVcObzL"
      },
      "source": [
        "import numpy as np\n",
        "import tensorflow as tf\n",
        "from tensorflow import keras\n",
        "from keras.layers import Input, Dense, Dropout, Flatten, Conv2D, MaxPooling2D\n",
        "import time"
      ],
      "execution_count": 6,
      "outputs": []
    },
    {
      "cell_type": "code",
      "metadata": {
        "colab": {
          "base_uri": "https://localhost:8080/"
        },
        "id": "_6755xHSQQuH",
        "outputId": "9828d85a-aa2b-4202-bf01-bc4ebe0718a3"
      },
      "source": [
        "num_dims = (np.shape(X_train))[1]\n",
        "print(num_dims)"
      ],
      "execution_count": 7,
      "outputs": [
        {
          "output_type": "stream",
          "text": [
            "8\n"
          ],
          "name": "stdout"
        }
      ]
    },
    {
      "cell_type": "markdown",
      "metadata": {
        "id": "0bMYXK41TtPP"
      },
      "source": [
        "Everytime we create a model, we will call this function, create_model(). This way, every model will have the same architecture after the input layer."
      ]
    },
    {
      "cell_type": "code",
      "metadata": {
        "id": "VGWzN565RiGh"
      },
      "source": [
        "from keras.layers import BatchNormalization\n",
        "\n",
        "def create_model():\n",
        "  model = keras.models.Sequential()\n",
        "  model.add(Dense(300, activation='relu'))\n",
        "  model.add(BatchNormalization())\n",
        "  model.add(Dense(300, activation='relu'))\n",
        "  model.add(BatchNormalization())\n",
        "  model.add(Dense(300, activation='relu'))\n",
        "  model.add(BatchNormalization())\n",
        "  model.add(Dense(300, activation='relu'))\n",
        "  model.add(BatchNormalization())\n",
        "  model.add(Dense(1, activation='sigmoid'))\n",
        "  return model"
      ],
      "execution_count": 8,
      "outputs": []
    },
    {
      "cell_type": "markdown",
      "metadata": {
        "id": "hZ_Z9ShbUTYD"
      },
      "source": [
        "Here we define the optimizer which we will use with all models."
      ]
    },
    {
      "cell_type": "code",
      "metadata": {
        "id": "TaIT2Lc1ULEo"
      },
      "source": [
        "#exp_opt = keras.optimizers.schedules.ExponentialDecay(\n",
        "#    initial_learning_rate=0.05,\n",
        "#    decay_steps=10000,\n",
        "#    decay_rate=1e-5)\n",
        "\n",
        "opt = keras.optimizers.Adam()\n",
        "\n",
        "\n",
        "#model.compile(loss='categorical_crossentropy', optimizer=exp_opt)"
      ],
      "execution_count": 9,
      "outputs": []
    },
    {
      "cell_type": "code",
      "metadata": {
        "id": "r1Ta2wAIUBNv"
      },
      "source": [
        "model_primary = create_model()\n",
        "model_primary.compile(loss='binary_crossentropy', optimizer=opt, metrics=['accuracy'])"
      ],
      "execution_count": 10,
      "outputs": []
    },
    {
      "cell_type": "code",
      "metadata": {
        "colab": {
          "base_uri": "https://localhost:8080/"
        },
        "id": "BFeiyBYoVOed",
        "outputId": "6dfe6eae-23de-493f-8906-e73a3bb1ad6a"
      },
      "source": [
        "t1 = time.perf_counter()\n",
        "model_primary.fit(X_train, y_train, validation_data=(X_val, y_val), epochs=20, batch_size=10)\n",
        "t2 = time.perf_counter()\n",
        "baseline_time = t2-t1"
      ],
      "execution_count": 11,
      "outputs": [
        {
          "output_type": "stream",
          "text": [
            "Epoch 1/20\n",
            "3200/3200 [==============================] - 14s 3ms/step - loss: 0.5887 - accuracy: 0.7171 - val_loss: 0.4907 - val_accuracy: 0.7632\n",
            "Epoch 2/20\n",
            "3200/3200 [==============================] - 10s 3ms/step - loss: 0.5134 - accuracy: 0.7555 - val_loss: 0.4714 - val_accuracy: 0.7807\n",
            "Epoch 3/20\n",
            "3200/3200 [==============================] - 10s 3ms/step - loss: 0.5058 - accuracy: 0.7600 - val_loss: 0.4865 - val_accuracy: 0.7780\n",
            "Epoch 4/20\n",
            "3200/3200 [==============================] - 10s 3ms/step - loss: 0.5060 - accuracy: 0.7619 - val_loss: 0.4774 - val_accuracy: 0.7846\n",
            "Epoch 5/20\n",
            "3200/3200 [==============================] - 10s 3ms/step - loss: 0.5037 - accuracy: 0.7583 - val_loss: 0.4776 - val_accuracy: 0.7810\n",
            "Epoch 6/20\n",
            "3200/3200 [==============================] - 10s 3ms/step - loss: 0.4964 - accuracy: 0.7643 - val_loss: 0.4700 - val_accuracy: 0.7818\n",
            "Epoch 7/20\n",
            "3200/3200 [==============================] - 10s 3ms/step - loss: 0.4893 - accuracy: 0.7654 - val_loss: 0.4733 - val_accuracy: 0.7764\n",
            "Epoch 8/20\n",
            "3200/3200 [==============================] - 10s 3ms/step - loss: 0.4884 - accuracy: 0.7700 - val_loss: 0.4663 - val_accuracy: 0.7884\n",
            "Epoch 9/20\n",
            "3200/3200 [==============================] - 10s 3ms/step - loss: 0.4908 - accuracy: 0.7664 - val_loss: 0.4625 - val_accuracy: 0.7883\n",
            "Epoch 10/20\n",
            "3200/3200 [==============================] - 10s 3ms/step - loss: 0.4865 - accuracy: 0.7727 - val_loss: 0.4629 - val_accuracy: 0.7900\n",
            "Epoch 11/20\n",
            "3200/3200 [==============================] - 10s 3ms/step - loss: 0.4910 - accuracy: 0.7650 - val_loss: 0.4594 - val_accuracy: 0.7904\n",
            "Epoch 12/20\n",
            "3200/3200 [==============================] - 10s 3ms/step - loss: 0.4808 - accuracy: 0.7713 - val_loss: 0.4615 - val_accuracy: 0.7877\n",
            "Epoch 13/20\n",
            "3200/3200 [==============================] - 10s 3ms/step - loss: 0.4882 - accuracy: 0.7719 - val_loss: 0.4697 - val_accuracy: 0.7810\n",
            "Epoch 14/20\n",
            "3200/3200 [==============================] - 10s 3ms/step - loss: 0.4844 - accuracy: 0.7721 - val_loss: 0.4592 - val_accuracy: 0.7879\n",
            "Epoch 15/20\n",
            "3200/3200 [==============================] - 10s 3ms/step - loss: 0.4843 - accuracy: 0.7714 - val_loss: 0.4638 - val_accuracy: 0.7867\n",
            "Epoch 16/20\n",
            "3200/3200 [==============================] - 10s 3ms/step - loss: 0.4873 - accuracy: 0.7735 - val_loss: 0.4616 - val_accuracy: 0.7884\n",
            "Epoch 17/20\n",
            "3200/3200 [==============================] - 10s 3ms/step - loss: 0.4766 - accuracy: 0.7764 - val_loss: 0.4657 - val_accuracy: 0.7889\n",
            "Epoch 18/20\n",
            "3200/3200 [==============================] - 10s 3ms/step - loss: 0.4743 - accuracy: 0.7817 - val_loss: 0.4614 - val_accuracy: 0.7925\n",
            "Epoch 19/20\n",
            "3200/3200 [==============================] - 10s 3ms/step - loss: 0.4799 - accuracy: 0.7756 - val_loss: 0.4609 - val_accuracy: 0.7912\n",
            "Epoch 20/20\n",
            "3200/3200 [==============================] - 10s 3ms/step - loss: 0.4822 - accuracy: 0.7729 - val_loss: 0.4650 - val_accuracy: 0.7890\n"
          ],
          "name": "stdout"
        }
      ]
    },
    {
      "cell_type": "code",
      "metadata": {
        "colab": {
          "base_uri": "https://localhost:8080/"
        },
        "id": "Yl7IvsOJvYvY",
        "outputId": "82f41a1d-5c58-4bf7-bc8a-ba84c20245a9"
      },
      "source": [
        "baseline_time"
      ],
      "execution_count": 12,
      "outputs": [
        {
          "output_type": "execute_result",
          "data": {
            "text/plain": [
              "203.49800310899997"
            ]
          },
          "metadata": {
            "tags": []
          },
          "execution_count": 12
        }
      ]
    },
    {
      "cell_type": "markdown",
      "metadata": {
        "id": "T4etsLJJVjKj"
      },
      "source": [
        "Evaluate the performance of the model."
      ]
    },
    {
      "cell_type": "code",
      "metadata": {
        "colab": {
          "base_uri": "https://localhost:8080/"
        },
        "id": "TJQH65OUVmG-",
        "outputId": "0fe141a8-6237-4f5a-c922-9d4823e9e1cc"
      },
      "source": [
        "_, accuracy = model_primary.evaluate(X_test, y_test)"
      ],
      "execution_count": 13,
      "outputs": [
        {
          "output_type": "stream",
          "text": [
            "250/250 [==============================] - 1s 2ms/step - loss: 0.4764 - accuracy: 0.7850\n"
          ],
          "name": "stdout"
        }
      ]
    },
    {
      "cell_type": "code",
      "metadata": {
        "colab": {
          "base_uri": "https://localhost:8080/"
        },
        "id": "GOnIsUQXrxqA",
        "outputId": "4f52709f-6bb2-406b-a8af-4d1fb736d4ae"
      },
      "source": [
        "from sklearn.metrics import roc_curve, auc\n",
        "\n",
        "# Evaluate on validation set\n",
        "score = model_primary.evaluate(X_val, y_val, verbose=1)\n",
        "print('\\nValidation loss / accuracy: %0.4f / %0.4f'%(score[0], score[1]))\n",
        "y_pred = model_primary.predict(X_val)\n",
        "fpr, tpr, _ = roc_curve(y_val, y_pred)\n",
        "roc_auc = auc(fpr, tpr)\n",
        "print('Validation ROC AUC:', roc_auc)\n",
        "\n",
        "# Evaluate on test set\n",
        "score = model_primary.evaluate(X_test, y_test, verbose=1)\n",
        "print('\\nTest loss / accuracy: %0.4f / %0.4f'%(score[0], score[1]))\n",
        "y_pred = model_primary.predict(X_test)\n",
        "fpr, tpr, _ = roc_curve(y_test, y_pred)\n",
        "roc_auc = auc(fpr, tpr)\n",
        "print('Test ROC AUC:', roc_auc)\n",
        "\n",
        "#To use later, comparing to the PCA datasets:\n",
        "\n",
        "acc_primary = score[1]\n",
        "roc_auc_primary = roc_auc\n",
        "loss_primary = score[0]"
      ],
      "execution_count": 14,
      "outputs": [
        {
          "output_type": "stream",
          "text": [
            "313/313 [==============================] - 1s 2ms/step - loss: 0.4650 - accuracy: 0.7890\n",
            "\n",
            "Validation loss / accuracy: 0.4650 / 0.7890\n",
            "Validation ROC AUC: 0.8580884443714226\n",
            "250/250 [==============================] - 1s 2ms/step - loss: 0.4764 - accuracy: 0.7850\n",
            "\n",
            "Test loss / accuracy: 0.4764 / 0.7850\n",
            "Test ROC AUC: 0.8514491607843138\n"
          ],
          "name": "stdout"
        }
      ]
    },
    {
      "cell_type": "code",
      "metadata": {
        "colab": {
          "base_uri": "https://localhost:8080/",
          "height": 295
        },
        "id": "2zPoqfAwr2bj",
        "outputId": "830259c6-27a5-4a7d-cac2-225c1b050489"
      },
      "source": [
        "import matplotlib.pyplot as plt\n",
        "\n",
        "plt.plot([0, 1], [0, 1], 'k--')\n",
        "#plt.legend(loc=2, prop={'size': 15})\n",
        "plt.plot(fpr, tpr, label='Model 1 (ROC-AUC = {:.3f})'.format(roc_auc))\n",
        "plt.xlabel('False positive rate')\n",
        "plt.ylabel('True positive rate')\n",
        "plt.title('ROC curve - Low level variables only')\n",
        "plt.legend(loc='best')\n",
        "plt.show()"
      ],
      "execution_count": 15,
      "outputs": [
        {
          "output_type": "display_data",
          "data": {
            "image/png": "[encoded data removed]",
            "text/plain": [
              "<Figure size 432x288 with 1 Axes>"
            ]
          },
          "metadata": {
            "tags": [],
            "needs_background": "light"
          }
        }
      ]
    },
    {
      "cell_type": "markdown",
      "metadata": {
        "id": "rOYJxYDZcRl7"
      },
      "source": [
        "PCA\n"
      ]
    },
    {
      "cell_type": "code",
      "metadata": {
        "colab": {
          "base_uri": "https://localhost:8080/"
        },
        "id": "oEzJZ6yGcUF6",
        "outputId": "d7fd0fb5-68d4-4f81-e686-b7405d5a37c6"
      },
      "source": [
        "from sklearn.decomposition import IncrementalPCA\n",
        "\n",
        "\n",
        "n_batches=100\n",
        "\n",
        "d=4\n",
        "  \n",
        "inc_pca = IncrementalPCA(n_components=d)\n",
        "for X_batch in np.array_split(X_train, n_batches):\n",
        "  inc_pca.partial_fit(X_batch)\n",
        "\n",
        "X_train_reduced = inc_pca.transform(X_train)\n",
        "X_val_reduced = inc_pca.transform(X_val)\n",
        "X_test_reduced = inc_pca.transform(X_test)\n",
        "\n",
        "model_reduced = create_model()\n",
        "model_reduced.compile(loss='binary_crossentropy', optimizer=opt, metrics=['accuracy'])\n",
        "  \n",
        "t1 = time.perf_counter()\n",
        "model_reduced.fit(X_train_reduced, y_train, validation_data=(X_val_reduced, y_val), epochs=20, batch_size=10)\n",
        "t2 = time.perf_counter()\n",
        "train_time_reduced = t2-t1\n",
        "\n",
        "loss, accuracy = model_reduced.evaluate(X_test_reduced, y_test)\n",
        "  \n",
        "y_pred_reduced = model_reduced.predict(X_test_reduced)\n",
        "fpr, tpr, _ = roc_curve(y_test, y_pred_reduced)\n",
        "roc_auc = auc(fpr, tpr)  \n"
      ],
      "execution_count": 16,
      "outputs": [
        {
          "output_type": "stream",
          "text": [
            "Epoch 1/20\n",
            "3200/3200 [==============================] - 11s 3ms/step - loss: 0.5832 - accuracy: 0.7204 - val_loss: 0.5057 - val_accuracy: 0.7628\n",
            "Epoch 2/20\n",
            "3200/3200 [==============================] - 10s 3ms/step - loss: 0.5395 - accuracy: 0.7438 - val_loss: 0.5101 - val_accuracy: 0.7661\n",
            "Epoch 3/20\n",
            "3200/3200 [==============================] - 10s 3ms/step - loss: 0.5305 - accuracy: 0.7470 - val_loss: 0.5058 - val_accuracy: 0.7704\n",
            "Epoch 4/20\n",
            "3200/3200 [==============================] - 10s 3ms/step - loss: 0.5308 - accuracy: 0.7462 - val_loss: 0.5012 - val_accuracy: 0.7702\n",
            "Epoch 5/20\n",
            "3200/3200 [==============================] - 10s 3ms/step - loss: 0.5227 - accuracy: 0.7524 - val_loss: 0.5067 - val_accuracy: 0.7647\n",
            "Epoch 6/20\n",
            "3200/3200 [==============================] - 10s 3ms/step - loss: 0.5214 - accuracy: 0.7543 - val_loss: 0.4964 - val_accuracy: 0.7711\n",
            "Epoch 7/20\n",
            "3200/3200 [==============================] - 10s 3ms/step - loss: 0.5212 - accuracy: 0.7581 - val_loss: 0.4942 - val_accuracy: 0.7693\n",
            "Epoch 8/20\n",
            "3200/3200 [==============================] - 10s 3ms/step - loss: 0.5220 - accuracy: 0.7509 - val_loss: 0.4944 - val_accuracy: 0.7721\n",
            "Epoch 9/20\n",
            "3200/3200 [==============================] - 10s 3ms/step - loss: 0.5206 - accuracy: 0.7509 - val_loss: 0.4907 - val_accuracy: 0.7706\n",
            "Epoch 10/20\n",
            "3200/3200 [==============================] - 10s 3ms/step - loss: 0.5143 - accuracy: 0.7572 - val_loss: 0.4927 - val_accuracy: 0.7717\n",
            "Epoch 11/20\n",
            "3200/3200 [==============================] - 10s 3ms/step - loss: 0.5131 - accuracy: 0.7621 - val_loss: 0.4909 - val_accuracy: 0.7716\n",
            "Epoch 12/20\n",
            "3200/3200 [==============================] - 10s 3ms/step - loss: 0.5092 - accuracy: 0.7602 - val_loss: 0.4938 - val_accuracy: 0.7705\n",
            "Epoch 13/20\n",
            "3200/3200 [==============================] - 10s 3ms/step - loss: 0.5142 - accuracy: 0.7605 - val_loss: 0.4975 - val_accuracy: 0.7687\n",
            "Epoch 14/20\n",
            "3200/3200 [==============================] - 10s 3ms/step - loss: 0.5115 - accuracy: 0.7620 - val_loss: 0.4946 - val_accuracy: 0.7713\n",
            "Epoch 15/20\n",
            "3200/3200 [==============================] - 10s 3ms/step - loss: 0.5152 - accuracy: 0.7550 - val_loss: 0.5002 - val_accuracy: 0.7679\n",
            "Epoch 16/20\n",
            "3200/3200 [==============================] - 10s 3ms/step - loss: 0.5169 - accuracy: 0.7520 - val_loss: 0.4970 - val_accuracy: 0.7706\n",
            "Epoch 17/20\n",
            "3200/3200 [==============================] - 10s 3ms/step - loss: 0.5100 - accuracy: 0.7601 - val_loss: 0.4922 - val_accuracy: 0.7715\n",
            "Epoch 18/20\n",
            "3200/3200 [==============================] - 10s 3ms/step - loss: 0.5151 - accuracy: 0.7546 - val_loss: 0.4967 - val_accuracy: 0.7684\n",
            "Epoch 19/20\n",
            "3200/3200 [==============================] - 10s 3ms/step - loss: 0.5111 - accuracy: 0.7587 - val_loss: 0.4973 - val_accuracy: 0.7665\n",
            "Epoch 20/20\n",
            "3200/3200 [==============================] - 10s 3ms/step - loss: 0.5066 - accuracy: 0.7628 - val_loss: 0.4955 - val_accuracy: 0.7703\n",
            "250/250 [==============================] - 1s 2ms/step - loss: 0.5085 - accuracy: 0.7555\n"
          ],
          "name": "stdout"
        }
      ]
    },
    {
      "cell_type": "code",
      "metadata": {
        "colab": {
          "base_uri": "https://localhost:8080/"
        },
        "id": "UxMJB2VlWzRj",
        "outputId": "fe0df497-e436-46c7-bc68-0f547ecd97c3"
      },
      "source": [
        "inc_pca.components_"
      ],
      "execution_count": 18,
      "outputs": [
        {
          "output_type": "execute_result",
          "data": {
            "text/plain": [
              "array([[-4.69846168e-03,  7.07283284e-01, -5.24984267e-02,\n",
              "        -5.61173485e-03,  7.03969610e-01,  3.60118383e-02,\n",
              "        -8.32482951e-03,  1.15615619e-03],\n",
              "       [-1.92675636e-03,  4.42615650e-02,  7.19663047e-01,\n",
              "         3.31506533e-03,  3.94300585e-02, -5.80555076e-01,\n",
              "        -8.33330938e-03, -3.76089007e-01],\n",
              "       [-9.34839703e-03,  7.70698875e-03, -5.17470419e-02,\n",
              "        -7.01954656e-03,  1.69156891e-02, -5.86042181e-01,\n",
              "        -1.29673851e-03,  8.08327235e-01],\n",
              "       [ 5.66692355e-01, -1.71920541e-02,  1.36949433e-02,\n",
              "         4.03886046e-01,  3.37333342e-02,  4.16404209e-04,\n",
              "         7.16919964e-01,  1.18479236e-02]])"
            ]
          },
          "metadata": {
            "tags": []
          },
          "execution_count": 18
        }
      ]
    },
    {
      "cell_type": "code",
      "metadata": {
        "colab": {
          "base_uri": "https://localhost:8080/"
        },
        "id": "tqWXhX2J_oin",
        "outputId": "644125a4-a9a7-4049-d2ef-ab726cb17b70"
      },
      "source": [
        "feature_names = [\"lepton 1 pT\", \"lepton 1 eta\", \"lepton 1 phi\", \"lepton 2 pT\", \"lepton 2 eta\", \"lepton 2 phi\", \"miss. energy mag\", \"miss. energy phi\"]\n",
        "\n",
        "principal_components = inc_pca.components_\n",
        "for d in range(len(principal_components)):\n",
        "  print(\"Principal Axis \"+str(d+1))\n",
        "  for n in range(len(feature_names)):\n",
        "    print(feature_names[n] + \" :\\t\"+str(principal_components[d][n]))\n",
        "  print(\"\\n-------------\\n\")"
      ],
      "execution_count": 76,
      "outputs": [
        {
          "output_type": "stream",
          "text": [
            "Principal Axis 1\n",
            "lepton 1 pT :\t-0.0046984616839536916\n",
            "lepton 1 eta :\t0.7072832843801448\n",
            "lepton 1 phi :\t-0.05249842669906155\n",
            "lepton 2 pT :\t-0.0056117348477145446\n",
            "lepton 2 eta :\t0.7039696099538482\n",
            "lepton 2 phi :\t0.036011838308060824\n",
            "miss. energy mag :\t-0.008324829507514564\n",
            "miss. energy phi :\t0.0011561561891171345\n",
            "\n",
            "-------------\n",
            "\n",
            "Principal Axis 2\n",
            "lepton 1 pT :\t-0.001926756360735022\n",
            "lepton 1 eta :\t0.04426156502792717\n",
            "lepton 1 phi :\t0.7196630471432183\n",
            "lepton 2 pT :\t0.0033150653315836415\n",
            "lepton 2 eta :\t0.03943005847966237\n",
            "lepton 2 phi :\t-0.5805550757029835\n",
            "miss. energy mag :\t-0.008333309383483693\n",
            "miss. energy phi :\t-0.37608900663021877\n",
            "\n",
            "-------------\n",
            "\n",
            "Principal Axis 3\n",
            "lepton 1 pT :\t-0.009348397028420174\n",
            "lepton 1 eta :\t0.007706988747308286\n",
            "lepton 1 phi :\t-0.05174704188089206\n",
            "lepton 2 pT :\t-0.007019546562155966\n",
            "lepton 2 eta :\t0.016915689142547756\n",
            "lepton 2 phi :\t-0.5860421811407974\n",
            "miss. energy mag :\t-0.001296738511425373\n",
            "miss. energy phi :\t0.8083272352666891\n",
            "\n",
            "-------------\n",
            "\n",
            "Principal Axis 4\n",
            "lepton 1 pT :\t0.5666923546106838\n",
            "lepton 1 eta :\t-0.01719205408413993\n",
            "lepton 1 phi :\t0.013694943297805044\n",
            "lepton 2 pT :\t0.4038860456873857\n",
            "lepton 2 eta :\t0.033733334179917904\n",
            "lepton 2 phi :\t0.00041640420910217177\n",
            "miss. energy mag :\t0.7169199638782765\n",
            "miss. energy phi :\t0.011847923643147332\n",
            "\n",
            "-------------\n",
            "\n"
          ],
          "name": "stdout"
        }
      ]
    }
  ]
}